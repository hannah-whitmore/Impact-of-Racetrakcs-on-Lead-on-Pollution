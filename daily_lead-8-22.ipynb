{
 "cells": [
  {
   "cell_type": "code",
   "execution_count": 1,
   "metadata": {},
   "outputs": [],
   "source": [
    "import pandas as pd\n",
    "import numpy as np\n",
    "import matplotlib.pyplot as plt\n",
    "from haversine import haversine, Unit\n",
    "import itertools\n",
    "import datetime\n",
    "from tqdm.notebook import tqdm\n",
    "pd.set_option('display.max_columns', None)"
   ]
  },
  {
   "cell_type": "markdown",
   "metadata": {},
   "source": [
    "### Read in DFs and Clean"
   ]
  },
  {
   "cell_type": "code",
   "execution_count": 2,
   "metadata": {},
   "outputs": [],
   "source": [
    "# new DF with lat-longs from Google Maps\n",
    "tracks_df = pd.read_excel('../input_data/Nascar -Arca _1980_2020_updated.xlsx')"
   ]
  },
  {
   "cell_type": "code",
   "execution_count": 3,
   "metadata": {},
   "outputs": [],
   "source": [
    "daily_lead_df = pd.read_csv('../input_data/daily_lead_80_20.csv')"
   ]
  },
  {
   "cell_type": "code",
   "execution_count": 4,
   "metadata": {},
   "outputs": [],
   "source": [
    "daily_lead_df['point'] = [(x, y) for x,y in zip(daily_lead_df['latitude'], daily_lead_df['longitude'])]"
   ]
  },
  {
   "cell_type": "code",
   "execution_count": 5,
   "metadata": {},
   "outputs": [],
   "source": [
    "daily_lead_df['date'] = pd.to_datetime(daily_lead_df['date1'])"
   ]
  },
  {
   "cell_type": "code",
   "execution_count": 6,
   "metadata": {},
   "outputs": [],
   "source": [
    "filt_lead_df = pd.read_pickle(\"../../21_6_7/notebooks/daily_lead_unique.pkl\")"
   ]
  },
  {
   "cell_type": "code",
   "execution_count": 7,
   "metadata": {},
   "outputs": [],
   "source": [
    "tracks_df['point'] = [(x, y) for x,y in zip(tracks_df['lat_Google_Maps'], tracks_df['long_Google_Maps'])]"
   ]
  },
  {
   "cell_type": "code",
   "execution_count": 8,
   "metadata": {},
   "outputs": [],
   "source": [
    "tracks_df_4km = tracks_df.copy()\n",
    "tracks_df_50mi = tracks_df.copy()"
   ]
  },
  {
   "cell_type": "markdown",
   "metadata": {},
   "source": [
    "### Find All Stations Within X km of Tracks"
   ]
  },
  {
   "cell_type": "code",
   "execution_count": 9,
   "metadata": {},
   "outputs": [],
   "source": [
    "monitor_points = list(filt_lead_df['point'])\n",
    "monitor_ids = list(filt_lead_df[\"monitorID\"])"
   ]
  },
  {
   "cell_type": "code",
   "execution_count": 10,
   "metadata": {},
   "outputs": [],
   "source": [
    "def get_stations_within_thresh(point, points, monitor_ids, distance_thresh_min, distance_thresh_max, dist_unit):\n",
    "    \n",
    "    # finds distance between each track and every monitoring station\n",
    "    dist = []\n",
    "    if(dist_unit=='km'): # 1 indicates kilometers, else miles\n",
    "        for p in points:\n",
    "            x = round(haversine(point, p), 4)\n",
    "            dist.append(x)\n",
    "    elif(dist_unit=='mi'):\n",
    "        for p in points:\n",
    "            x = round(haversine(point, p, unit=Unit.MILES), 4)\n",
    "            dist.append(x)\n",
    "    else:\n",
    "        raise ValueError('wrong dist unit')\n",
    "    \n",
    "    idxs = [i for i,v in enumerate(dist) if (v >= distance_thresh_min and v <= distance_thresh_max)]\n",
    "\n",
    "    n_smallest_points = [points[idx] for idx in idxs] # monitor coordinates\n",
    "    n_smallest_ids = [monitor_ids[idx] for idx in idxs] # monitor IDs\n",
    "    n_smallest_dist = [dist[idx] for idx in idxs]\n",
    "\n",
    "    return n_smallest_points, n_smallest_ids, n_smallest_dist"
   ]
  },
  {
   "cell_type": "code",
   "execution_count": 11,
   "metadata": {},
   "outputs": [],
   "source": [
    "def pass_dist_thresh(df, distance_thresh_min, distance_thresh_max, dist_unit):\n",
    "    df = df.copy()\n",
    "    df['points_ids_dist'] = [get_stations_within_thresh(x, monitor_points, monitor_ids, distance_thresh_min, distance_thresh_max, dist_unit) \n",
    "                                              for x in df['point']]\n",
    "    dis =''\n",
    "    if (distance_thresh_max) == 50:\n",
    "        dis = '50mi'\n",
    "    elif (distance_thresh_max) == 6:\n",
    "        dis = '4-6km'\n",
    "    elif(distance_thresh_max) == 4:\n",
    "        dis = '4km'\n",
    "           \n",
    "    df[f'points_within_{dis}'] = df[\"points_ids_dist\"].apply(lambda x: x[0])\n",
    "    df['ids'] = df[\"points_ids_dist\"].apply(lambda x: x[1])\n",
    "    df['distances'] = df[\"points_ids_dist\"].apply(lambda x: x[2])\n",
    "    df['num_stations'] = [len(x) for x in df[f'points_within_{dis}']]\n",
    "    \n",
    "    df = df.query(\"num_stations != 0\").copy()\n",
    "    df[f'mean ({dist_unit})'] = [round(np.array(x).mean(),4) for x in df['distances'].values]\n",
    "    df[f'std ({dist_unit})'] = [round(pd.array(x).std(),4) for x in df['distances'].values]\n",
    "    df[f'max_dist ({dist_unit})'] = [max(x) for x in df['distances']]\n",
    "    df[f'min_dist ({dist_unit})'] = [min(x) for x in df['distances']]\n",
    "    \n",
    "    return df"
   ]
  },
  {
   "cell_type": "markdown",
   "metadata": {},
   "source": [
    "### Find All Stations Within 4K of Tracks"
   ]
  },
  {
   "cell_type": "code",
   "execution_count": 12,
   "metadata": {},
   "outputs": [],
   "source": [
    "stations_4km_df = (pass_dist_thresh(tracks_df_4km, 0, 4, 'km')\n",
    "                                  .drop(['points_ids_dist'], axis=1)\n",
    "                                  .reset_index(drop=True).copy())"
   ]
  },
  {
   "cell_type": "markdown",
   "metadata": {},
   "source": [
    "### Get Avg Pb Readings Pre and Post Races W Distance From Each Monitor to Track (km) "
   ]
  },
  {
   "cell_type": "code",
   "execution_count": 13,
   "metadata": {},
   "outputs": [],
   "source": [
    "all_race_dates = pd.read_excel('../input_data/race_dates_4_6.xlsx')"
   ]
  },
  {
   "cell_type": "code",
   "execution_count": 14,
   "metadata": {},
   "outputs": [],
   "source": [
    "all_race_dates['Date'] = pd.to_datetime(all_race_dates['Date'], errors='coerce')"
   ]
  },
  {
   "cell_type": "code",
   "execution_count": 15,
   "metadata": {},
   "outputs": [],
   "source": [
    "all_race_dates = all_race_dates.rename(columns = {'Unnamed: 0' : 'Track'})"
   ]
  },
  {
   "cell_type": "code",
   "execution_count": 16,
   "metadata": {},
   "outputs": [],
   "source": [
    "track_names_04 = ['Autoclub Speedway, CA', 'Chicago Motor Speedway', 'Indiana State Fairgrounds (ARCA)',\n",
    "'Indianapolis Motor Speedway', 'Kansas Speedway', 'Nazareth','Bristol Speedway',\n",
    "\"Nashville Int'l Raceway/Nashville Fairgrounds Speedway\", 'Richmond']"
   ]
  },
  {
   "cell_type": "code",
   "execution_count": 17,
   "metadata": {},
   "outputs": [],
   "source": [
    "track_names_4km = ['Autoclub Speedway, CA', 'Bristol Speedway', 'Richmond']"
   ]
  },
  {
   "cell_type": "code",
   "execution_count": 18,
   "metadata": {},
   "outputs": [],
   "source": [
    "def get_tracks(track_names, all_race_dates): \n",
    "    race_dates_dfs = []\n",
    "    for x in track_names:\n",
    "        df = all_race_dates[all_race_dates['Track']== x].reset_index(drop=True)\n",
    "        race_dates_dfs.append(df)\n",
    "    return race_dates_dfs"
   ]
  },
  {
   "cell_type": "code",
   "execution_count": 23,
   "metadata": {},
   "outputs": [],
   "source": [
    "def readings_pre_post_race(stations_df, daily_lead_df, window1, window2, ids, around):\n",
    "    if (around == 'pre'):\n",
    "        mask = (daily_lead_df['date']>= window1) & (daily_lead_df['date']<= window2)\n",
    "    elif (around == 'post'):\n",
    "        mask = (daily_lead_df['date']>= window1) & (daily_lead_df['date']<= window2)\n",
    "    else:\n",
    "        raise ValueError('Wrong Around Type')\n",
    "    df = daily_lead_df.loc[mask]\n",
    "\n",
    "\n",
    "    empty = True\n",
    "    out_ids = []\n",
    "    out_distances = []\n",
    "    pb_readings = []\n",
    "    date_list = []    \n",
    "    \n",
    "    for ID in ids:\n",
    "        \n",
    "        lead_id_df = df[(df['monitorID']==ID)]\n",
    "        \n",
    "        if not lead_id_df.empty:\n",
    "            empty = False\n",
    "            \n",
    "            for pb in lead_id_df['Pb_mean'].values:\n",
    "                pb_readings.append(round(pb, 5))\n",
    "            \n",
    "            dates = lead_id_df['date'].values\n",
    "            for x in dates:\n",
    "                x = pd.to_datetime(x)\n",
    "                date_list.append(x.strftime('%Y-%m-%d'))\n",
    "          \n",
    "            idx = ids.index(ID)\n",
    "            distance_from_track = stations_df['distances'].iloc[0][idx]\n",
    "            \n",
    "            out_ids.append(ID)\n",
    "            out_distances.append(distance_from_track)\n",
    "         \n",
    "            \n",
    "    if empty == False:\n",
    "        return out_ids, out_distances, pb_readings, date_list\n",
    "    else:\n",
    "        return -1, -1, -1, -1"
   ]
  },
  {
   "cell_type": "code",
   "execution_count": 24,
   "metadata": {
    "scrolled": true
   },
   "outputs": [],
   "source": [
    "def get_each_race(race_dates_dfs, stations_df, daily_lead_df):\n",
    "    race_df_list = []\n",
    "        \n",
    "    days =  datetime.timedelta(days = 40)\n",
    "    ten_days = datetime.timedelta(days = 10)\n",
    "    one_week =  datetime.timedelta(days = 7)\n",
    "\n",
    "    for name, race_df in race_dates_dfs.groupby(\"Track\"):  # USE NAME \n",
    "        \n",
    "        race_dates = set(list(race_df[\"Date\"]))\n",
    "        \n",
    "        filt_stations_df = stations_df[stations_df[\"track name\"].str.contains(name[:4])].copy()\n",
    "        \n",
    "        if len(filt_stations_df)==0: ### race track not found in filt_stations_df,\n",
    "                                    # could be 0,1,2,3 of the 3 tracks based on monitors found within dist window\n",
    "            continue\n",
    "            \n",
    "        assert(len(filt_stations_df)==1) # one track at a time\n",
    "        \n",
    "        station_ids = filt_stations_df[\"ids\"].iloc[0]\n",
    "        \n",
    "        for race_date in race_dates:        \n",
    "\n",
    "            filt_race_date_df = race_df[race_df[\"Date\"]==race_date].copy()\n",
    "            \n",
    "            around = 'pre' \n",
    "            \n",
    "            pre_dates = []\n",
    "            pre_ids = set()\n",
    "            pre_dist = set()\n",
    "            pre_pb = []\n",
    "            \n",
    "            window1 = race_date - days\n",
    "            window2 = race_date - ten_days\n",
    "\n",
    "            ids, distances, means, dates = readings_pre_post_race(filt_stations_df, daily_lead_df, window1, window2, station_ids, around)     \n",
    "            if ids != -1:\n",
    "                for x in ids:\n",
    "                    if x not in pre_ids:\n",
    "                        pre_ids.add(x)\n",
    "                for x in distances:\n",
    "                    if x not in pre_dist:\n",
    "                        pre_dist.add(x)\n",
    "\n",
    "                pre_pb = means\n",
    "                pre_dates = dates\n",
    "            \n",
    "            if ((len(filt_race_date_df)>0) & (len(pre_dates)>0)):\n",
    "                filt_race_date_df['pre_dates'] = [pre_dates] * len(filt_race_date_df)\n",
    "                \n",
    "                filt_race_date_df[\"pre_ids\"] = [pre_ids] * len(filt_race_date_df)\n",
    "                filt_race_date_df[\"pre_distances_km\"] = [pre_dist] * len(filt_race_date_df)\n",
    "                filt_race_date_df[\"pre_pb_readings\"] = [pre_pb] * len(filt_race_date_df)\n",
    "            \n",
    "                \n",
    "            post_dates = []\n",
    "            post_ids = set()\n",
    "            post_dist = set()\n",
    "            post_pb = []\n",
    "        \n",
    "                \n",
    "            around = 'post'\n",
    "            window1 = race_date - one_week\n",
    "            window2 = race_date + one_week\n",
    "            \n",
    "            ids, distances, means, dates = readings_pre_post_race(filt_stations_df, daily_lead_df, window1, window2, station_ids, around)      \n",
    "            if ids != -1:\n",
    "                for x in ids:\n",
    "                    if x not in post_ids:\n",
    "                        post_ids.add(x)\n",
    "                for x in distances:\n",
    "                    if x not in post_dist:\n",
    "                        post_dist.add(x)\n",
    "\n",
    "            post_pb = means\n",
    "            post_dates = dates\n",
    "\n",
    "            if ((len(filt_race_date_df)>0) & (len(pre_dates)>0)):\n",
    "                filt_race_date_df[\"post_pb_readings\"] = [post_pb] * len(filt_race_date_df)\n",
    "                filt_race_date_df[\"post_dates\"] = [post_dates] * len(filt_race_date_df)\n",
    "                \n",
    "                filt_race_date_df[\"post_ids\"] = [post_ids] * len(filt_race_date_df)\n",
    "                filt_race_date_df[\"post_distances_km\"] = [post_dist] * len(filt_race_date_df)\n",
    "                \n",
    "            race_df_list.append(filt_race_date_df)\n",
    "            \n",
    "           \n",
    "    out_df = pd.concat(race_df_list)\n",
    "    \n",
    "    return out_df"
   ]
  },
  {
   "cell_type": "markdown",
   "metadata": {},
   "source": [
    "### Recaculate Post-lead means for :  0-4K, 0-5K, 0-6K, 0-7K 0-8K, 0-9K 0-10K, 10K - max for our 3 tracks"
   ]
  },
  {
   "cell_type": "markdown",
   "metadata": {},
   "source": [
    "### pre-race is defined as 40 days prior to the race through 10 days prior to the race, post-race is defined as 7 days prior to the race through 7 days after the race"
   ]
  },
  {
   "cell_type": "markdown",
   "metadata": {},
   "source": [
    "### there is no overlap between pre and post race, and in the results tables, it shows the indivudal readings in that window and the dates of the readings, as well as the pre-lead post-lead and diff-lead means for each distance window"
   ]
  },
  {
   "cell_type": "code",
   "execution_count": 26,
   "metadata": {
    "scrolled": true
   },
   "outputs": [
    {
     "data": {
      "application/vnd.jupyter.widget-view+json": {
       "model_id": "408a900c0dae4c9db2642233014f4771",
       "version_major": 2,
       "version_minor": 0
      },
      "text/plain": [
       "HBox(children=(HTML(value=''), FloatProgress(value=0.0, max=18.0), HTML(value='')))"
      ]
     },
     "metadata": {},
     "output_type": "display_data"
    },
    {
     "name": "stdout",
     "output_type": "stream",
     "text": [
      "\n"
     ]
    }
   ],
   "source": [
    "filt_stations_4km_df = (tracks_df_4km[(tracks_df_4km[\"track name\"].str.contains(\"Auto Club Speedway\")) |\n",
    "                                        (tracks_df_4km[\"track name\"].str.contains(\"Bristol\")) |\n",
    "                                        (tracks_df_4km[\"track name\"].str.contains(\"Richmond\"))]\n",
    "                                        .reset_index(drop=True).copy())\n",
    "\n",
    "race_dates_df = pd.concat(get_tracks(track_names_4km, all_race_dates)).copy()\n",
    "\n",
    "all_dfs = {}\n",
    "all_df_list = []\n",
    "distances = [[0,1], [1,2], [2,3], [3,4], [4,5], [5,6], [6,7], [7,8], [8,9], [9,10],\n",
    "            [0,4], [0,5], [0,6], [0,7], [0,8], [0,9], [0, 10], [10,80]]\n",
    "\n",
    "for dist in tqdm(distances): \n",
    "\n",
    "    monitors_in_dist_df = (pass_dist_thresh(filt_stations_4km_df, dist[0], dist[1], 'km')\n",
    "                                  .drop(['points_ids_dist'], axis=1)\n",
    "                                  .reset_index(drop=True).copy())\n",
    "    if not monitors_in_dist_df.empty: \n",
    "        final_df = get_each_race(race_dates_df, monitors_in_dist_df, daily_lead_df)\n",
    "\n",
    "        final_df[\"distance_window\"] = [dist] * len(final_df)\n",
    "\n",
    "        all_df_list.append(final_df)\n",
    "\n",
    "        all_dfs[repr(dist)] = final_df"
   ]
  },
  {
   "cell_type": "code",
   "execution_count": 28,
   "metadata": {},
   "outputs": [],
   "source": [
    "all_df = pd.concat(all_df_list).dropna().dropna().reset_index(drop=True)\n",
    "\n",
    "all_df[\"distance_window\"] = all_df[\"distance_window\"].apply(lambda x: repr(x))\n",
    "all_df[\"POST_race_mean\"] = all_df[\"post_pb_readings\"].apply(lambda x: np.mean(x))\n",
    "all_df[\"PRE_race_mean\"] = all_df[\"pre_pb_readings\"].apply(lambda x: np.mean(x))\n",
    "\n",
    "all_df[\"DIFF-Lead\"] = all_df[\"POST_race_mean\"]-all_df[\"PRE_race_mean\"]"
   ]
  },
  {
   "cell_type": "code",
   "execution_count": 29,
   "metadata": {},
   "outputs": [],
   "source": [
    "def filt_for_date(df, year1, year2):\n",
    "    filt = (df[(df['Date'] >= f\"{year1}-1-1\") & (df['Date']<= f\"{year2}-12-31\")])\n",
    "    filt_df = (filt.sort_values('Date')\n",
    "                    .drop_duplicates(subset='Date')\n",
    "                    .reset_index(drop=True))\n",
    "    \n",
    "    if len(filt_df)!=0:\n",
    "        assert(len(filt_df)<len(df))\n",
    "        return filt_df\n",
    "    else:\n",
    "        print(\"Empty DF filt for date\", year1, year2)\n",
    "        return pd.DataFrame()"
   ]
  },
  {
   "cell_type": "code",
   "execution_count": 30,
   "metadata": {},
   "outputs": [],
   "source": [
    "### note:\n",
    "##### parentheses represent days before / after\n",
    "##### brackets represent distance window"
   ]
  },
  {
   "cell_type": "markdown",
   "metadata": {},
   "source": [
    "### All dfs to csv"
   ]
  },
  {
   "cell_type": "code",
   "execution_count": 31,
   "metadata": {},
   "outputs": [
    {
     "name": "stdout",
     "output_type": "stream",
     "text": [
      "Empty DF filt for date 1990 2006\n",
      "[2, 3]\n"
     ]
    }
   ],
   "source": [
    "for year1, year2 in [(1990,2006), (2008, 2015)]:\n",
    "    for name, df in all_df.groupby([\"distance_window\"]):\n",
    "        \n",
    "        filt_df = filt_for_date(df, year1, year2)\n",
    "        if len(filt_df)==0:\n",
    "            print(name)\n",
    "            continue\n",
    "        \n",
    "        out_name = f\"{year1}-{year2}_pre_post_race_lead_{name}.csv\"\n",
    "        out_path = \"pre_post_race_lead-2021-08-22/\" + out_name\n",
    "        \n",
    "        all_df_final = filt_df[filt_df.astype(str)['post_pb_readings'] != '[]']\n",
    "        \n",
    "        \n",
    "        filt_df_final = (all_df_final.drop(columns=['Cars', 'Winner(s)', 'St', 'Make / Model', 'Len', 'Sfc', 'Miles',\n",
    "                                              'Purse', 'Pole', 'Cau', 'Laps', 'Speed', 'LC'],axis=1)).reset_index(drop=True).copy()\n",
    "            \n",
    "\n",
    "        filt_df_final.to_csv(out_path)"
   ]
  },
  {
   "cell_type": "markdown",
   "metadata": {},
   "source": [
    "### Summary table"
   ]
  },
  {
   "cell_type": "code",
   "execution_count": 32,
   "metadata": {},
   "outputs": [],
   "source": [
    "### NOTE: explain why certain columns have the same Mean and ID \n",
    "### (for the date ranges we are interested in, the tracks have the ID lists)"
   ]
  },
  {
   "cell_type": "code",
   "execution_count": 35,
   "metadata": {
    "scrolled": false
   },
   "outputs": [
    {
     "name": "stdout",
     "output_type": "stream",
     "text": [
      "Empty DF filt for date 1990 2006\n",
      "[2, 3]\n"
     ]
    },
    {
     "data": {
      "text/html": [
       "<div>\n",
       "<style scoped>\n",
       "    .dataframe tbody tr th:only-of-type {\n",
       "        vertical-align: middle;\n",
       "    }\n",
       "\n",
       "    .dataframe tbody tr th {\n",
       "        vertical-align: top;\n",
       "    }\n",
       "\n",
       "    .dataframe thead th {\n",
       "        text-align: right;\n",
       "    }\n",
       "</style>\n",
       "<table border=\"1\" class=\"dataframe\">\n",
       "  <thead>\n",
       "    <tr style=\"text-align: right;\">\n",
       "      <th></th>\n",
       "      <th>year1</th>\n",
       "      <th>year2</th>\n",
       "      <th>monitor_to_track_window</th>\n",
       "      <th># DIFF-Lead-Obs</th>\n",
       "      <th>DIFF-Lead-Mean</th>\n",
       "      <th>DIFF-Lead-Std</th>\n",
       "    </tr>\n",
       "  </thead>\n",
       "  <tbody>\n",
       "    <tr>\n",
       "      <th>0</th>\n",
       "      <td>1990</td>\n",
       "      <td>2006</td>\n",
       "      <td>[0, 10]</td>\n",
       "      <td>77</td>\n",
       "      <td>0.006825</td>\n",
       "      <td>0.019471</td>\n",
       "    </tr>\n",
       "    <tr>\n",
       "      <th>1</th>\n",
       "      <td>1990</td>\n",
       "      <td>2006</td>\n",
       "      <td>[0, 4]</td>\n",
       "      <td>77</td>\n",
       "      <td>0.006825</td>\n",
       "      <td>0.019471</td>\n",
       "    </tr>\n",
       "    <tr>\n",
       "      <th>2</th>\n",
       "      <td>1990</td>\n",
       "      <td>2006</td>\n",
       "      <td>[0, 5]</td>\n",
       "      <td>77</td>\n",
       "      <td>0.006825</td>\n",
       "      <td>0.019471</td>\n",
       "    </tr>\n",
       "    <tr>\n",
       "      <th>3</th>\n",
       "      <td>1990</td>\n",
       "      <td>2006</td>\n",
       "      <td>[0, 6]</td>\n",
       "      <td>77</td>\n",
       "      <td>0.006825</td>\n",
       "      <td>0.019471</td>\n",
       "    </tr>\n",
       "    <tr>\n",
       "      <th>4</th>\n",
       "      <td>1990</td>\n",
       "      <td>2006</td>\n",
       "      <td>[0, 7]</td>\n",
       "      <td>77</td>\n",
       "      <td>0.006825</td>\n",
       "      <td>0.019471</td>\n",
       "    </tr>\n",
       "    <tr>\n",
       "      <th>5</th>\n",
       "      <td>1990</td>\n",
       "      <td>2006</td>\n",
       "      <td>[0, 8]</td>\n",
       "      <td>77</td>\n",
       "      <td>0.006825</td>\n",
       "      <td>0.019471</td>\n",
       "    </tr>\n",
       "    <tr>\n",
       "      <th>6</th>\n",
       "      <td>1990</td>\n",
       "      <td>2006</td>\n",
       "      <td>[0, 9]</td>\n",
       "      <td>77</td>\n",
       "      <td>0.006825</td>\n",
       "      <td>0.019471</td>\n",
       "    </tr>\n",
       "    <tr>\n",
       "      <th>7</th>\n",
       "      <td>1990</td>\n",
       "      <td>2006</td>\n",
       "      <td>[1, 2]</td>\n",
       "      <td>63</td>\n",
       "      <td>0.008368</td>\n",
       "      <td>0.021228</td>\n",
       "    </tr>\n",
       "    <tr>\n",
       "      <th>8</th>\n",
       "      <td>1990</td>\n",
       "      <td>2006</td>\n",
       "      <td>[10, 80]</td>\n",
       "      <td>57</td>\n",
       "      <td>-0.092055</td>\n",
       "      <td>0.295034</td>\n",
       "    </tr>\n",
       "    <tr>\n",
       "      <th>9</th>\n",
       "      <td>1990</td>\n",
       "      <td>2006</td>\n",
       "      <td>[3, 4]</td>\n",
       "      <td>14</td>\n",
       "      <td>-0.000119</td>\n",
       "      <td>0.001910</td>\n",
       "    </tr>\n",
       "    <tr>\n",
       "      <th>10</th>\n",
       "      <td>2008</td>\n",
       "      <td>2015</td>\n",
       "      <td>[0, 10]</td>\n",
       "      <td>72</td>\n",
       "      <td>-0.040149</td>\n",
       "      <td>0.202774</td>\n",
       "    </tr>\n",
       "    <tr>\n",
       "      <th>11</th>\n",
       "      <td>2008</td>\n",
       "      <td>2015</td>\n",
       "      <td>[0, 4]</td>\n",
       "      <td>72</td>\n",
       "      <td>-0.040149</td>\n",
       "      <td>0.202774</td>\n",
       "    </tr>\n",
       "    <tr>\n",
       "      <th>12</th>\n",
       "      <td>2008</td>\n",
       "      <td>2015</td>\n",
       "      <td>[0, 5]</td>\n",
       "      <td>72</td>\n",
       "      <td>-0.040149</td>\n",
       "      <td>0.202774</td>\n",
       "    </tr>\n",
       "    <tr>\n",
       "      <th>13</th>\n",
       "      <td>2008</td>\n",
       "      <td>2015</td>\n",
       "      <td>[0, 6]</td>\n",
       "      <td>72</td>\n",
       "      <td>-0.040149</td>\n",
       "      <td>0.202774</td>\n",
       "    </tr>\n",
       "    <tr>\n",
       "      <th>14</th>\n",
       "      <td>2008</td>\n",
       "      <td>2015</td>\n",
       "      <td>[0, 7]</td>\n",
       "      <td>72</td>\n",
       "      <td>-0.040149</td>\n",
       "      <td>0.202774</td>\n",
       "    </tr>\n",
       "    <tr>\n",
       "      <th>15</th>\n",
       "      <td>2008</td>\n",
       "      <td>2015</td>\n",
       "      <td>[0, 8]</td>\n",
       "      <td>72</td>\n",
       "      <td>-0.040149</td>\n",
       "      <td>0.202774</td>\n",
       "    </tr>\n",
       "    <tr>\n",
       "      <th>16</th>\n",
       "      <td>2008</td>\n",
       "      <td>2015</td>\n",
       "      <td>[0, 9]</td>\n",
       "      <td>72</td>\n",
       "      <td>-0.040149</td>\n",
       "      <td>0.202774</td>\n",
       "    </tr>\n",
       "    <tr>\n",
       "      <th>17</th>\n",
       "      <td>2008</td>\n",
       "      <td>2015</td>\n",
       "      <td>[1, 2]</td>\n",
       "      <td>37</td>\n",
       "      <td>0.003304</td>\n",
       "      <td>0.008831</td>\n",
       "    </tr>\n",
       "    <tr>\n",
       "      <th>18</th>\n",
       "      <td>2008</td>\n",
       "      <td>2015</td>\n",
       "      <td>[10, 80]</td>\n",
       "      <td>51</td>\n",
       "      <td>0.005016</td>\n",
       "      <td>0.024140</td>\n",
       "    </tr>\n",
       "    <tr>\n",
       "      <th>19</th>\n",
       "      <td>2008</td>\n",
       "      <td>2015</td>\n",
       "      <td>[2, 3]</td>\n",
       "      <td>2</td>\n",
       "      <td>0.005850</td>\n",
       "      <td>0.000000</td>\n",
       "    </tr>\n",
       "    <tr>\n",
       "      <th>20</th>\n",
       "      <td>2008</td>\n",
       "      <td>2015</td>\n",
       "      <td>[3, 4]</td>\n",
       "      <td>33</td>\n",
       "      <td>-0.091658</td>\n",
       "      <td>0.293410</td>\n",
       "    </tr>\n",
       "  </tbody>\n",
       "</table>\n",
       "</div>"
      ],
      "text/plain": [
       "    year1  year2 monitor_to_track_window  # DIFF-Lead-Obs  DIFF-Lead-Mean  \\\n",
       "0    1990   2006                 [0, 10]               77        0.006825   \n",
       "1    1990   2006                  [0, 4]               77        0.006825   \n",
       "2    1990   2006                  [0, 5]               77        0.006825   \n",
       "3    1990   2006                  [0, 6]               77        0.006825   \n",
       "4    1990   2006                  [0, 7]               77        0.006825   \n",
       "5    1990   2006                  [0, 8]               77        0.006825   \n",
       "6    1990   2006                  [0, 9]               77        0.006825   \n",
       "7    1990   2006                  [1, 2]               63        0.008368   \n",
       "8    1990   2006                [10, 80]               57       -0.092055   \n",
       "9    1990   2006                  [3, 4]               14       -0.000119   \n",
       "10   2008   2015                 [0, 10]               72       -0.040149   \n",
       "11   2008   2015                  [0, 4]               72       -0.040149   \n",
       "12   2008   2015                  [0, 5]               72       -0.040149   \n",
       "13   2008   2015                  [0, 6]               72       -0.040149   \n",
       "14   2008   2015                  [0, 7]               72       -0.040149   \n",
       "15   2008   2015                  [0, 8]               72       -0.040149   \n",
       "16   2008   2015                  [0, 9]               72       -0.040149   \n",
       "17   2008   2015                  [1, 2]               37        0.003304   \n",
       "18   2008   2015                [10, 80]               51        0.005016   \n",
       "19   2008   2015                  [2, 3]                2        0.005850   \n",
       "20   2008   2015                  [3, 4]               33       -0.091658   \n",
       "\n",
       "    DIFF-Lead-Std  \n",
       "0        0.019471  \n",
       "1        0.019471  \n",
       "2        0.019471  \n",
       "3        0.019471  \n",
       "4        0.019471  \n",
       "5        0.019471  \n",
       "6        0.019471  \n",
       "7        0.021228  \n",
       "8        0.295034  \n",
       "9        0.001910  \n",
       "10       0.202774  \n",
       "11       0.202774  \n",
       "12       0.202774  \n",
       "13       0.202774  \n",
       "14       0.202774  \n",
       "15       0.202774  \n",
       "16       0.202774  \n",
       "17       0.008831  \n",
       "18       0.024140  \n",
       "19       0.000000  \n",
       "20       0.293410  "
      ]
     },
     "execution_count": 35,
     "metadata": {},
     "output_type": "execute_result"
    }
   ],
   "source": [
    "data = []\n",
    "for year1, year2 in [(1990,2006), (2008, 2015)]:\n",
    "    for name, df in all_df.groupby([\"distance_window\"]):\n",
    "        \n",
    "        filt_df = filt_for_date(df, year1, year2)\n",
    "        \n",
    "        if len(filt_df)==0:\n",
    "            print(name)\n",
    "            continue\n",
    "        \n",
    "        length = len(filt_df)\n",
    "        mean_diff = filt_df[\"DIFF-Lead\"].mean()\n",
    "        std_diff = filt_df[\"DIFF-Lead\"].std()\n",
    "        data.append([year1, year2, name, length, mean_diff, std_diff])\n",
    "        \n",
    "summary_df = pd.DataFrame(data, columns=[\"year1\", \"year2\", \"monitor_to_track_window\", \n",
    "                                        \"# DIFF-Lead-Obs\", \"DIFF-Lead-Mean\", \"DIFF-Lead-Std\"])\n",
    "summary_df"
   ]
  },
  {
   "cell_type": "code",
   "execution_count": 34,
   "metadata": {},
   "outputs": [],
   "source": [
    "summary_df.to_csv('summary_table.csv')"
   ]
  },
  {
   "cell_type": "code",
   "execution_count": null,
   "metadata": {},
   "outputs": [],
   "source": []
  }
 ],
 "metadata": {
  "kernelspec": {
   "display_name": "Python 3",
   "language": "python",
   "name": "python3"
  },
  "language_info": {
   "codemirror_mode": {
    "name": "ipython",
    "version": 3
   },
   "file_extension": ".py",
   "mimetype": "text/x-python",
   "name": "python",
   "nbconvert_exporter": "python",
   "pygments_lexer": "ipython3",
   "version": "3.8.5"
  }
 },
 "nbformat": 4,
 "nbformat_minor": 4
}
