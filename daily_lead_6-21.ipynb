{
 "cells": [
  {
   "cell_type": "code",
   "execution_count": 1,
   "metadata": {},
   "outputs": [],
   "source": [
    "import pandas as pd\n",
    "import numpy as np\n",
    "import matplotlib.pyplot as plt\n",
    "from haversine import haversine, Unit\n",
    "import itertools\n",
    "import datetime\n",
    "from tqdm.notebook import tqdm\n",
    "pd.set_option('display.max_columns', None)"
   ]
  },
  {
   "cell_type": "markdown",
   "metadata": {},
   "source": [
    "### Read in DFs and Clean"
   ]
  },
  {
   "cell_type": "code",
   "execution_count": 2,
   "metadata": {},
   "outputs": [],
   "source": [
    "# new DF with lat-longs from Google Maps\n",
    "tracks_df = pd.read_excel('../input_data/Nascar -Arca _1980_2020_updated.xlsx')"
   ]
  },
  {
   "cell_type": "code",
   "execution_count": 3,
   "metadata": {},
   "outputs": [],
   "source": [
    "daily_lead_df = pd.read_csv('../input_data/daily_lead_80_20.csv')"
   ]
  },
  {
   "cell_type": "code",
   "execution_count": 4,
   "metadata": {},
   "outputs": [],
   "source": [
    "daily_lead_df['point'] = [(x, y) for x,y in zip(daily_lead_df['latitude'], daily_lead_df['longitude'])]"
   ]
  },
  {
   "cell_type": "code",
   "execution_count": 5,
   "metadata": {},
   "outputs": [],
   "source": [
    "daily_lead_df['date'] = pd.to_datetime(daily_lead_df['date1'])"
   ]
  },
  {
   "cell_type": "code",
   "execution_count": 6,
   "metadata": {},
   "outputs": [],
   "source": [
    "filt_lead_df = pd.read_pickle(\"../../21_6_7/notebooks/daily_lead_unique.pkl\")"
   ]
  },
  {
   "cell_type": "code",
   "execution_count": 7,
   "metadata": {},
   "outputs": [],
   "source": [
    "tracks_df['point'] = [(x, y) for x,y in zip(tracks_df['lat_Google_Maps'], tracks_df['long_Google_Maps'])]"
   ]
  },
  {
   "cell_type": "code",
   "execution_count": 8,
   "metadata": {},
   "outputs": [],
   "source": [
    "tracks_df_4km = tracks_df.copy()\n",
    "tracks_df_50mi = tracks_df.copy()"
   ]
  },
  {
   "cell_type": "markdown",
   "metadata": {},
   "source": [
    "### Find All Stations Within X km of Tracks"
   ]
  },
  {
   "cell_type": "code",
   "execution_count": 9,
   "metadata": {},
   "outputs": [],
   "source": [
    "monitor_points = list(filt_lead_df['point'])\n",
    "monitor_ids = list(filt_lead_df[\"monitorID\"])"
   ]
  },
  {
   "cell_type": "code",
   "execution_count": 10,
   "metadata": {},
   "outputs": [],
   "source": [
    "def get_stations_within_thresh(point, points, monitor_ids, distance_thresh_min, distance_thresh_max, dist_unit):\n",
    "    \n",
    "    # finds distance between each track and every monitoring station\n",
    "    dist = []\n",
    "    if(dist_unit=='km'): # 1 indicates kilometers, else miles\n",
    "        for p in points:\n",
    "            x = round(haversine(point, p), 4)\n",
    "            dist.append(x)\n",
    "    elif(dist_unit=='mi'):\n",
    "        for p in points:\n",
    "            x = round(haversine(point, p, unit=Unit.MILES), 4)\n",
    "            dist.append(x)\n",
    "    else:\n",
    "        raise ValueError('wrong dist unit')\n",
    "    \n",
    "    idxs = [i for i,v in enumerate(dist) if (v >= distance_thresh_min and v <= distance_thresh_max)]\n",
    "\n",
    "    n_smallest_points = [points[idx] for idx in idxs] # monitor coordinates\n",
    "    n_smallest_ids = [monitor_ids[idx] for idx in idxs] # monitor IDs\n",
    "    n_smallest_dist = [dist[idx] for idx in idxs]\n",
    "\n",
    "    return n_smallest_points, n_smallest_ids, n_smallest_dist"
   ]
  },
  {
   "cell_type": "code",
   "execution_count": 11,
   "metadata": {},
   "outputs": [],
   "source": [
    "def pass_dist_thresh(df, distance_thresh_min, distance_thresh_max, dist_unit):\n",
    "    df = df.copy()\n",
    "    df['points_ids_dist'] = [get_stations_within_thresh(x, monitor_points, monitor_ids, distance_thresh_min, distance_thresh_max, dist_unit) \n",
    "                                              for x in df['point']]\n",
    "    dis =''\n",
    "    if (distance_thresh_max) == 50:\n",
    "        dis = '50mi'\n",
    "    elif (distance_thresh_max) == 6:\n",
    "        dis = '4-6km'\n",
    "    elif(distance_thresh_max) == 4:\n",
    "        dis = '4km'\n",
    "           \n",
    "    df[f'points_within_{dis}'] = df[\"points_ids_dist\"].apply(lambda x: x[0])\n",
    "    df['ids'] = df[\"points_ids_dist\"].apply(lambda x: x[1])\n",
    "    df['distances'] = df[\"points_ids_dist\"].apply(lambda x: x[2])\n",
    "    df['num_stations'] = [len(x) for x in df[f'points_within_{dis}']]\n",
    "    \n",
    "    df = df.query(\"num_stations != 0\").copy()\n",
    "    df[f'mean ({dist_unit})'] = [round(np.array(x).mean(),4) for x in df['distances'].values]\n",
    "    df[f'std ({dist_unit})'] = [round(pd.array(x).std(),4) for x in df['distances'].values]\n",
    "    df[f'max_dist ({dist_unit})'] = [max(x) for x in df['distances']]\n",
    "    df[f'min_dist ({dist_unit})'] = [min(x) for x in df['distances']]\n",
    "    \n",
    "    return df"
   ]
  },
  {
   "cell_type": "markdown",
   "metadata": {},
   "source": [
    "### Find All Stations Within 4K of Tracks"
   ]
  },
  {
   "cell_type": "code",
   "execution_count": 12,
   "metadata": {},
   "outputs": [],
   "source": [
    "stations_4km_df = (pass_dist_thresh(tracks_df_4km, 0, 4, 'km')\n",
    "                                  .drop(['points_ids_dist'], axis=1)\n",
    "                                  .reset_index(drop=True).copy())"
   ]
  },
  {
   "cell_type": "code",
   "execution_count": 13,
   "metadata": {},
   "outputs": [],
   "source": [
    "stations_4km_df.to_csv('stations_4km_df.csv')"
   ]
  },
  {
   "cell_type": "markdown",
   "metadata": {},
   "source": [
    "### Find All Stations Within 50 Miles of Tracks"
   ]
  },
  {
   "cell_type": "code",
   "execution_count": 14,
   "metadata": {},
   "outputs": [],
   "source": [
    "stations_50mi_df = (pass_dist_thresh(tracks_df_50mi, 0, 50, 'mi')\n",
    "                                  .drop(['points_ids_dist'], axis=1)\n",
    "                                  .reset_index(drop=True).copy())\n",
    "stations_50mi_df['std (mi)'] = stations_50mi_df['std (mi)'].fillna(0)"
   ]
  },
  {
   "cell_type": "code",
   "execution_count": 15,
   "metadata": {},
   "outputs": [],
   "source": [
    "stations_50mi_df.to_csv('stations_50mi_df.csv')"
   ]
  },
  {
   "cell_type": "markdown",
   "metadata": {},
   "source": [
    "### Get Avg Pb Readings Pre and Post Races W Distance From Each Monitor to Track (km) "
   ]
  },
  {
   "cell_type": "code",
   "execution_count": 16,
   "metadata": {},
   "outputs": [],
   "source": [
    "all_race_dates = pd.read_excel('../input_data/race_dates_4_6.xlsx')"
   ]
  },
  {
   "cell_type": "code",
   "execution_count": 17,
   "metadata": {},
   "outputs": [],
   "source": [
    "all_race_dates['Date'] = pd.to_datetime(all_race_dates['Date'], errors='coerce')"
   ]
  },
  {
   "cell_type": "code",
   "execution_count": 18,
   "metadata": {},
   "outputs": [],
   "source": [
    "all_race_dates = all_race_dates.rename(columns = {'Unnamed: 0' : 'Track'})"
   ]
  },
  {
   "cell_type": "code",
   "execution_count": 19,
   "metadata": {},
   "outputs": [],
   "source": [
    "track_names_04 = ['Autoclub Speedway, CA', 'Chicago Motor Speedway', 'Indiana State Fairgrounds (ARCA)',\n",
    "'Indianapolis Motor Speedway', 'Kansas Speedway', 'Nazareth','Bristol Speedway',\n",
    "\"Nashville Int'l Raceway/Nashville Fairgrounds Speedway\", 'Richmond']"
   ]
  },
  {
   "cell_type": "code",
   "execution_count": 20,
   "metadata": {},
   "outputs": [],
   "source": [
    "track_names_4km = ['Autoclub Speedway, CA', 'Bristol Speedway', 'Richmond']"
   ]
  },
  {
   "cell_type": "code",
   "execution_count": 21,
   "metadata": {},
   "outputs": [],
   "source": [
    "def get_tracks(track_names, all_race_dates): \n",
    "    race_dates_dfs = []\n",
    "    for x in track_names:\n",
    "        df = all_race_dates[all_race_dates['Track']== x].reset_index(drop=True)\n",
    "        race_dates_dfs.append(df)\n",
    "    return race_dates_dfs"
   ]
  },
  {
   "cell_type": "code",
   "execution_count": 22,
   "metadata": {},
   "outputs": [],
   "source": [
    "def readings_pre_post_race(stations_df, daily_lead_df, window, race_date, ids, around):\n",
    "    if (around == 'pre'):\n",
    "        mask = (daily_lead_df['date']>= window) & (daily_lead_df['date']< race_date)\n",
    "    elif (around == 'post'):\n",
    "        mask = (daily_lead_df['date']>= window) & (daily_lead_df['date']<= race_date)\n",
    "    else:\n",
    "        raise ValueError('Wrong Around Type')\n",
    "    df = daily_lead_df.loc[mask]\n",
    "\n",
    "    empty = True\n",
    "    out_ids = []\n",
    "    out_distances = []\n",
    "    out_means = []\n",
    "    out_duplicates = []\n",
    "    \n",
    "    duplicate_dict = {}\n",
    "    \n",
    "    for ID in ids:\n",
    "        \n",
    "        lead_id_df = df[(df['monitorID']==ID)]\n",
    "        \n",
    "        if not lead_id_df.empty:\n",
    "            empty = False\n",
    "            pb_mean = round(lead_id_df['Pb_mean'].mean(), 5)\n",
    "            \n",
    "            idx = ids.index(ID)\n",
    "            distance_from_track = stations_df['distances'].iloc[0][idx]\n",
    "            \n",
    "            out_ids.append(ID)\n",
    "            out_distances.append(distance_from_track)\n",
    "            #out_means.append(pb_mean)\n",
    "            \n",
    "            dup_date = lead_id_df[lead_id_df[\"date\"].duplicated()]\n",
    "            \n",
    "            if len(dup_date) > 0:\n",
    "                \n",
    "                min_pb = dup_date['Pb_mean'].min()\n",
    "                idx = lead_id_df[lead_id_df['Pb_mean']==min_pb].index\n",
    "                \n",
    "                new_pb_df = lead_id_df.drop(index=idx)\n",
    "                \n",
    "                pb_mean = round((new_pb_df['Pb_mean'].sum() + min_pb)  / (len(new_pb_df)+1),5)             \n",
    "            \n",
    "                out_duplicates.append(True)\n",
    "            else:\n",
    "                out_duplicates.append(False)\n",
    "            out_means.append(pb_mean)\n",
    "                \n",
    "    if empty == False:\n",
    "        return out_ids, out_distances, out_means, out_duplicates\n",
    "    else:\n",
    "        return -1, -1, -1, -1"
   ]
  },
  {
   "cell_type": "code",
   "execution_count": 23,
   "metadata": {
    "scrolled": true
   },
   "outputs": [],
   "source": [
    "def get_each_race(race_dates_dfs, stations_df, daily_lead_df, post_window1, post_window2):\n",
    "    race_df_list = []\n",
    "    two_weeks = datetime.timedelta(days = 14)\n",
    "    week = datetime.timedelta(days = 7)\n",
    "    days = datetime.timedelta(days = 3)\n",
    "    \n",
    "    for name, race_df in race_dates_dfs.groupby(\"Track\"):\n",
    "        \n",
    "        race_dates = set(list(race_df[\"Date\"]))\n",
    "        \n",
    "        filt_stations_df = stations_df[stations_df[\"track name\"].str.contains(name[:4])].copy()\n",
    "        \n",
    "        if len(filt_stations_df)==0: ### race track not found in filt_stations_df,\n",
    "                                    # could be 0,1,2,3 of the 3 tracks based on monitors found within dist window\n",
    "            continue\n",
    "            \n",
    "        assert(len(filt_stations_df)==1) # one track at a time\n",
    "        \n",
    "        station_ids = filt_stations_df[\"ids\"].iloc[0]\n",
    "        \n",
    "        for race_date in race_dates:\n",
    "            \n",
    "            filt_race_date_df = race_df[race_df[\"Date\"]==race_date].copy()\n",
    "            \n",
    "            around = 'pre'\n",
    "            two_weeks_before = race_date -  two_weeks\n",
    "            buff_race_date = race_date - days\n",
    "            ids, distances, means, dups = readings_pre_post_race(filt_stations_df, daily_lead_df, two_weeks_before, buff_race_date, station_ids, around)            \n",
    "            filt_race_date_df[\"pre_ids\"] = [ids] * len(filt_race_date_df)\n",
    "            filt_race_date_df[\"pre_distances_km\"] = [distances] * len(filt_race_date_df)\n",
    "            filt_race_date_df[\"pre_pb_means\"] = [means] * len(filt_race_date_df)\n",
    "            filt_race_date_df[\"pre_dups\"] = [dups] * len(filt_race_date_df)\n",
    "\n",
    "            around = 'post'\n",
    "            days1 = datetime.timedelta(days = post_window1)\n",
    "            days2 = datetime.timedelta(days = post_window2)\n",
    "            before_window = race_date - days1\n",
    "            after_window = race_date + days2\n",
    "            ids, distances, means, dups = readings_pre_post_race(filt_stations_df, daily_lead_df, before_window, after_window, station_ids, around)\n",
    "            filt_race_date_df[\"post_ids\"] = [ids] * len(filt_race_date_df)\n",
    "            filt_race_date_df[\"post_distances_km\"] = [distances] * len(filt_race_date_df)\n",
    "            filt_race_date_df[\"post_pb_means\"] = [means] * len(filt_race_date_df)\n",
    "            filt_race_date_df[\"post_dups\"] = [dups] * len(filt_race_date_df)\n",
    "            \n",
    "            race_df_list.append(filt_race_date_df)\n",
    "           \n",
    "    out_df = pd.concat(race_df_list)\n",
    "    out_df = out_df[(out_df[\"pre_ids\"] != -1) & (out_df[\"post_ids\"] != -1)].copy()\n",
    "    \n",
    "    out_df[\"POST-Lead\"] = out_df[\"post_pb_means\"].apply(lambda x: np.mean(x))\n",
    "    out_df[\"PRE-Lead\"] = out_df[\"pre_pb_means\"].apply(lambda x: np.mean(x))\n",
    "    \n",
    "    out_df[\"DIFF-Lead\"] = out_df[\"POST-Lead\"]-out_df[\"PRE-Lead\"]\n",
    "    \n",
    "    return out_df"
   ]
  },
  {
   "cell_type": "markdown",
   "metadata": {},
   "source": [
    "### Calculate pre-post race pb means for :  0-4K, 0-5K, 0-6K, 0-7K 0-8K, 0-9K 0-10K, 10K - max at our 3 tracks"
   ]
  },
  {
   "cell_type": "markdown",
   "metadata": {},
   "source": [
    "### pre-race is 2 weeks prior through 3 days prior to the race "
   ]
  },
  {
   "cell_type": "markdown",
   "metadata": {},
   "source": [
    "### looks at two post-race windows — one week prior thorugh one week after the race, and week of the race through one week after the race"
   ]
  },
  {
   "cell_type": "code",
   "execution_count": 24,
   "metadata": {},
   "outputs": [
    {
     "data": {
      "application/vnd.jupyter.widget-view+json": {
       "model_id": "118fff8f6e3543189286705930c45f76",
       "version_major": 2,
       "version_minor": 0
      },
      "text/plain": [
       "HBox(children=(HTML(value=''), FloatProgress(value=0.0, max=2.0), HTML(value='')))"
      ]
     },
     "metadata": {},
     "output_type": "display_data"
    },
    {
     "data": {
      "application/vnd.jupyter.widget-view+json": {
       "model_id": "3c76fd7c8027424ca3e9f847b41f9f41",
       "version_major": 2,
       "version_minor": 0
      },
      "text/plain": [
       "HBox(children=(HTML(value=''), FloatProgress(value=0.0, max=18.0), HTML(value='')))"
      ]
     },
     "metadata": {},
     "output_type": "display_data"
    },
    {
     "name": "stdout",
     "output_type": "stream",
     "text": [
      "\n"
     ]
    },
    {
     "data": {
      "application/vnd.jupyter.widget-view+json": {
       "model_id": "975d87af6dc149258ce5803778ef790c",
       "version_major": 2,
       "version_minor": 0
      },
      "text/plain": [
       "HBox(children=(HTML(value=''), FloatProgress(value=0.0, max=18.0), HTML(value='')))"
      ]
     },
     "metadata": {},
     "output_type": "display_data"
    },
    {
     "name": "stdout",
     "output_type": "stream",
     "text": [
      "\n",
      "\n"
     ]
    }
   ],
   "source": [
    "filt_stations_4km_df = (tracks_df_4km[(tracks_df_4km[\"track name\"].str.contains(\"Auto Club Speedway\")) |\n",
    "                                        (tracks_df_4km[\"track name\"].str.contains(\"Bristol\")) |\n",
    "                                        (tracks_df_4km[\"track name\"].str.contains(\"Richmond\"))]\n",
    "                                        .reset_index(drop=True).copy())\n",
    "\n",
    "race_dates_df = pd.concat(get_tracks(track_names_4km, all_race_dates)).copy()\n",
    "\n",
    "all_dfs = {}\n",
    "all_df_list = []\n",
    "days_before_after = [(7,7), (0,7)]\n",
    "distances = [[0,1], [1,2], [2,3], [3,4], [4,5], [5,6], [6,7], [7,8], [8,9], [9,10],\n",
    "             [0,4], [0,5], [0,6], [0,7], [0,8], [0,9], [0, 10], [10,80]]\n",
    "\n",
    "for days_before, days_after in tqdm(days_before_after):\n",
    "    for dist in tqdm(distances): \n",
    "        \n",
    "        monitors_in_dist_df = (pass_dist_thresh(filt_stations_4km_df, dist[0], dist[1], 'km')\n",
    "                                      .drop(['points_ids_dist'], axis=1)\n",
    "                                      .reset_index(drop=True).copy())\n",
    "        if not monitors_in_dist_df.empty: \n",
    "            final_df = get_each_race(race_dates_df, monitors_in_dist_df, daily_lead_df, days_before, days_after)\n",
    "            \n",
    "            final_df[\"days_before_after\"] = [(days_before, days_after)] * len(final_df)\n",
    "            \n",
    "            final_df[\"distance_window\"] = [dist] * len(final_df)\n",
    "            \n",
    "            all_df_list.append(final_df)\n",
    "\n",
    "            all_dfs[repr(dist)] = final_df"
   ]
  },
  {
   "cell_type": "code",
   "execution_count": 27,
   "metadata": {},
   "outputs": [],
   "source": [
    "all_df = pd.concat(all_df_list)\n",
    "\n",
    "all_df[\"days_before_after\"] = all_df[\"days_before_after\"].apply(lambda x: repr(x))\n",
    "all_df[\"distance_window\"] = all_df[\"distance_window\"].apply(lambda x: repr(x))"
   ]
  },
  {
   "cell_type": "code",
   "execution_count": 28,
   "metadata": {},
   "outputs": [],
   "source": [
    "def filt_for_date(df, year1, year2):\n",
    "    filt = (df[(df['Date'] >= f\"{year1}-1-1\") & (df['Date']<= f\"{year2}-12-31\")])\n",
    "    filt_df = (filt.sort_values('Date')\n",
    "                    .drop_duplicates(subset='Date')\n",
    "                    .reset_index(drop=True))\n",
    "    \n",
    "    if len(filt_df)!=0:\n",
    "        assert(len(filt_df)<len(df))\n",
    "        return filt_df\n",
    "    else:\n",
    "        print(\"Empty DF filt for date\", year1, year2)\n",
    "        return pd.DataFrame()"
   ]
  },
  {
   "cell_type": "markdown",
   "metadata": {},
   "source": [
    "### Results"
   ]
  },
  {
   "cell_type": "code",
   "execution_count": 30,
   "metadata": {},
   "outputs": [],
   "source": [
    "### note:\n",
    "##### parentheses represent days before / after\n",
    "##### brackets represent distance window"
   ]
  },
  {
   "cell_type": "markdown",
   "metadata": {},
   "source": [
    "### All dfs to csvs"
   ]
  },
  {
   "cell_type": "code",
   "execution_count": 31,
   "metadata": {},
   "outputs": [
    {
     "name": "stdout",
     "output_type": "stream",
     "text": [
      "Empty DF filt for date 1990 2006\n",
      "('(0, 7)', '[2, 3]')\n",
      "Empty DF filt for date 1990 2006\n",
      "('(7, 7)', '[2, 3]')\n"
     ]
    }
   ],
   "source": [
    "for year1, year2 in [(1990,2006), (2008, 2015)]:\n",
    "    for name, df in all_df.groupby([\"days_before_after\",\"distance_window\"]):\n",
    "        \n",
    "        filt_df = filt_for_date(df, year1, year2)\n",
    "        if len(filt_df)==0:\n",
    "            print(name)\n",
    "            continue\n",
    "        \n",
    "        out_name = f\"{year1}-{year2}_pre_post_race_lead_{name[0]}-{name[1]}.csv\"\n",
    "        out_path = \"pre_post_race_lead-2021-08-03/\" + out_name\n",
    "        \n",
    "        filt_df_final = (filt_df.drop(columns=['pre_pb_means','post_pb_means', 'pre_distances_km', 'post_distances_km',\n",
    "                'pre_dups', 'post_dups'],axis=1))\n",
    "\n",
    "        filt_df_final.to_csv(out_path)"
   ]
  },
  {
   "cell_type": "markdown",
   "metadata": {},
   "source": [
    "### Summary table"
   ]
  },
  {
   "cell_type": "code",
   "execution_count": 32,
   "metadata": {},
   "outputs": [],
   "source": [
    "### NOTE: explain why certain columns have the same Mean and ID \n",
    "### (for the date ranges we are interested in, the tracks have the ID lists)"
   ]
  },
  {
   "cell_type": "code",
   "execution_count": 33,
   "metadata": {},
   "outputs": [
    {
     "name": "stdout",
     "output_type": "stream",
     "text": [
      "Empty DF filt for date 1990 2006\n",
      "('(0, 7)', '[2, 3]')\n",
      "Empty DF filt for date 1990 2006\n",
      "('(7, 7)', '[2, 3]')\n"
     ]
    },
    {
     "data": {
      "text/html": [
       "<div>\n",
       "<style scoped>\n",
       "    .dataframe tbody tr th:only-of-type {\n",
       "        vertical-align: middle;\n",
       "    }\n",
       "\n",
       "    .dataframe tbody tr th {\n",
       "        vertical-align: top;\n",
       "    }\n",
       "\n",
       "    .dataframe thead th {\n",
       "        text-align: right;\n",
       "    }\n",
       "</style>\n",
       "<table border=\"1\" class=\"dataframe\">\n",
       "  <thead>\n",
       "    <tr style=\"text-align: right;\">\n",
       "      <th></th>\n",
       "      <th>year1</th>\n",
       "      <th>year2</th>\n",
       "      <th>post-race_date_window</th>\n",
       "      <th>monitor_to_track_window</th>\n",
       "      <th># DIFF-Lead-Obs</th>\n",
       "      <th>DIFF-Lead-Mean</th>\n",
       "      <th>DIFF-Lead-Std</th>\n",
       "    </tr>\n",
       "  </thead>\n",
       "  <tbody>\n",
       "    <tr>\n",
       "      <th>0</th>\n",
       "      <td>1990</td>\n",
       "      <td>2006</td>\n",
       "      <td>(0, 7)</td>\n",
       "      <td>[0, 10]</td>\n",
       "      <td>77</td>\n",
       "      <td>-0.001589</td>\n",
       "      <td>0.030416</td>\n",
       "    </tr>\n",
       "    <tr>\n",
       "      <th>1</th>\n",
       "      <td>1990</td>\n",
       "      <td>2006</td>\n",
       "      <td>(0, 7)</td>\n",
       "      <td>[0, 4]</td>\n",
       "      <td>77</td>\n",
       "      <td>-0.001589</td>\n",
       "      <td>0.030416</td>\n",
       "    </tr>\n",
       "    <tr>\n",
       "      <th>2</th>\n",
       "      <td>1990</td>\n",
       "      <td>2006</td>\n",
       "      <td>(0, 7)</td>\n",
       "      <td>[0, 5]</td>\n",
       "      <td>77</td>\n",
       "      <td>-0.001589</td>\n",
       "      <td>0.030416</td>\n",
       "    </tr>\n",
       "    <tr>\n",
       "      <th>3</th>\n",
       "      <td>1990</td>\n",
       "      <td>2006</td>\n",
       "      <td>(0, 7)</td>\n",
       "      <td>[0, 6]</td>\n",
       "      <td>77</td>\n",
       "      <td>-0.001589</td>\n",
       "      <td>0.030416</td>\n",
       "    </tr>\n",
       "    <tr>\n",
       "      <th>4</th>\n",
       "      <td>1990</td>\n",
       "      <td>2006</td>\n",
       "      <td>(0, 7)</td>\n",
       "      <td>[0, 7]</td>\n",
       "      <td>77</td>\n",
       "      <td>-0.001589</td>\n",
       "      <td>0.030416</td>\n",
       "    </tr>\n",
       "    <tr>\n",
       "      <th>5</th>\n",
       "      <td>1990</td>\n",
       "      <td>2006</td>\n",
       "      <td>(0, 7)</td>\n",
       "      <td>[0, 8]</td>\n",
       "      <td>77</td>\n",
       "      <td>-0.001589</td>\n",
       "      <td>0.030416</td>\n",
       "    </tr>\n",
       "    <tr>\n",
       "      <th>6</th>\n",
       "      <td>1990</td>\n",
       "      <td>2006</td>\n",
       "      <td>(0, 7)</td>\n",
       "      <td>[0, 9]</td>\n",
       "      <td>77</td>\n",
       "      <td>-0.001589</td>\n",
       "      <td>0.030416</td>\n",
       "    </tr>\n",
       "    <tr>\n",
       "      <th>7</th>\n",
       "      <td>1990</td>\n",
       "      <td>2006</td>\n",
       "      <td>(0, 7)</td>\n",
       "      <td>[1, 2]</td>\n",
       "      <td>65</td>\n",
       "      <td>-0.001989</td>\n",
       "      <td>0.033119</td>\n",
       "    </tr>\n",
       "    <tr>\n",
       "      <th>8</th>\n",
       "      <td>1990</td>\n",
       "      <td>2006</td>\n",
       "      <td>(0, 7)</td>\n",
       "      <td>[10, 80]</td>\n",
       "      <td>54</td>\n",
       "      <td>-0.000785</td>\n",
       "      <td>0.008218</td>\n",
       "    </tr>\n",
       "    <tr>\n",
       "      <th>9</th>\n",
       "      <td>1990</td>\n",
       "      <td>2006</td>\n",
       "      <td>(0, 7)</td>\n",
       "      <td>[3, 4]</td>\n",
       "      <td>12</td>\n",
       "      <td>0.000579</td>\n",
       "      <td>0.001988</td>\n",
       "    </tr>\n",
       "    <tr>\n",
       "      <th>10</th>\n",
       "      <td>1990</td>\n",
       "      <td>2006</td>\n",
       "      <td>(7, 7)</td>\n",
       "      <td>[0, 10]</td>\n",
       "      <td>78</td>\n",
       "      <td>0.001916</td>\n",
       "      <td>0.021400</td>\n",
       "    </tr>\n",
       "    <tr>\n",
       "      <th>11</th>\n",
       "      <td>1990</td>\n",
       "      <td>2006</td>\n",
       "      <td>(7, 7)</td>\n",
       "      <td>[0, 4]</td>\n",
       "      <td>78</td>\n",
       "      <td>0.001916</td>\n",
       "      <td>0.021400</td>\n",
       "    </tr>\n",
       "    <tr>\n",
       "      <th>12</th>\n",
       "      <td>1990</td>\n",
       "      <td>2006</td>\n",
       "      <td>(7, 7)</td>\n",
       "      <td>[0, 5]</td>\n",
       "      <td>78</td>\n",
       "      <td>0.001916</td>\n",
       "      <td>0.021400</td>\n",
       "    </tr>\n",
       "    <tr>\n",
       "      <th>13</th>\n",
       "      <td>1990</td>\n",
       "      <td>2006</td>\n",
       "      <td>(7, 7)</td>\n",
       "      <td>[0, 6]</td>\n",
       "      <td>78</td>\n",
       "      <td>0.001916</td>\n",
       "      <td>0.021400</td>\n",
       "    </tr>\n",
       "    <tr>\n",
       "      <th>14</th>\n",
       "      <td>1990</td>\n",
       "      <td>2006</td>\n",
       "      <td>(7, 7)</td>\n",
       "      <td>[0, 7]</td>\n",
       "      <td>78</td>\n",
       "      <td>0.001916</td>\n",
       "      <td>0.021400</td>\n",
       "    </tr>\n",
       "    <tr>\n",
       "      <th>15</th>\n",
       "      <td>1990</td>\n",
       "      <td>2006</td>\n",
       "      <td>(7, 7)</td>\n",
       "      <td>[0, 8]</td>\n",
       "      <td>78</td>\n",
       "      <td>0.001916</td>\n",
       "      <td>0.021400</td>\n",
       "    </tr>\n",
       "    <tr>\n",
       "      <th>16</th>\n",
       "      <td>1990</td>\n",
       "      <td>2006</td>\n",
       "      <td>(7, 7)</td>\n",
       "      <td>[0, 9]</td>\n",
       "      <td>78</td>\n",
       "      <td>0.001916</td>\n",
       "      <td>0.021400</td>\n",
       "    </tr>\n",
       "    <tr>\n",
       "      <th>17</th>\n",
       "      <td>1990</td>\n",
       "      <td>2006</td>\n",
       "      <td>(7, 7)</td>\n",
       "      <td>[1, 2]</td>\n",
       "      <td>66</td>\n",
       "      <td>0.002190</td>\n",
       "      <td>0.023265</td>\n",
       "    </tr>\n",
       "    <tr>\n",
       "      <th>18</th>\n",
       "      <td>1990</td>\n",
       "      <td>2006</td>\n",
       "      <td>(7, 7)</td>\n",
       "      <td>[10, 80]</td>\n",
       "      <td>55</td>\n",
       "      <td>-0.000506</td>\n",
       "      <td>0.005852</td>\n",
       "    </tr>\n",
       "    <tr>\n",
       "      <th>19</th>\n",
       "      <td>1990</td>\n",
       "      <td>2006</td>\n",
       "      <td>(7, 7)</td>\n",
       "      <td>[3, 4]</td>\n",
       "      <td>12</td>\n",
       "      <td>0.000412</td>\n",
       "      <td>0.002091</td>\n",
       "    </tr>\n",
       "    <tr>\n",
       "      <th>20</th>\n",
       "      <td>2008</td>\n",
       "      <td>2015</td>\n",
       "      <td>(0, 7)</td>\n",
       "      <td>[0, 10]</td>\n",
       "      <td>72</td>\n",
       "      <td>-0.001379</td>\n",
       "      <td>0.013069</td>\n",
       "    </tr>\n",
       "    <tr>\n",
       "      <th>21</th>\n",
       "      <td>2008</td>\n",
       "      <td>2015</td>\n",
       "      <td>(0, 7)</td>\n",
       "      <td>[0, 4]</td>\n",
       "      <td>72</td>\n",
       "      <td>-0.001379</td>\n",
       "      <td>0.013069</td>\n",
       "    </tr>\n",
       "    <tr>\n",
       "      <th>22</th>\n",
       "      <td>2008</td>\n",
       "      <td>2015</td>\n",
       "      <td>(0, 7)</td>\n",
       "      <td>[0, 5]</td>\n",
       "      <td>72</td>\n",
       "      <td>-0.001379</td>\n",
       "      <td>0.013069</td>\n",
       "    </tr>\n",
       "    <tr>\n",
       "      <th>23</th>\n",
       "      <td>2008</td>\n",
       "      <td>2015</td>\n",
       "      <td>(0, 7)</td>\n",
       "      <td>[0, 6]</td>\n",
       "      <td>72</td>\n",
       "      <td>-0.001379</td>\n",
       "      <td>0.013069</td>\n",
       "    </tr>\n",
       "    <tr>\n",
       "      <th>24</th>\n",
       "      <td>2008</td>\n",
       "      <td>2015</td>\n",
       "      <td>(0, 7)</td>\n",
       "      <td>[0, 7]</td>\n",
       "      <td>72</td>\n",
       "      <td>-0.001379</td>\n",
       "      <td>0.013069</td>\n",
       "    </tr>\n",
       "    <tr>\n",
       "      <th>25</th>\n",
       "      <td>2008</td>\n",
       "      <td>2015</td>\n",
       "      <td>(0, 7)</td>\n",
       "      <td>[0, 8]</td>\n",
       "      <td>72</td>\n",
       "      <td>-0.001379</td>\n",
       "      <td>0.013069</td>\n",
       "    </tr>\n",
       "    <tr>\n",
       "      <th>26</th>\n",
       "      <td>2008</td>\n",
       "      <td>2015</td>\n",
       "      <td>(0, 7)</td>\n",
       "      <td>[0, 9]</td>\n",
       "      <td>72</td>\n",
       "      <td>-0.001379</td>\n",
       "      <td>0.013069</td>\n",
       "    </tr>\n",
       "    <tr>\n",
       "      <th>27</th>\n",
       "      <td>2008</td>\n",
       "      <td>2015</td>\n",
       "      <td>(0, 7)</td>\n",
       "      <td>[1, 2]</td>\n",
       "      <td>40</td>\n",
       "      <td>-0.001831</td>\n",
       "      <td>0.017288</td>\n",
       "    </tr>\n",
       "    <tr>\n",
       "      <th>28</th>\n",
       "      <td>2008</td>\n",
       "      <td>2015</td>\n",
       "      <td>(0, 7)</td>\n",
       "      <td>[10, 80]</td>\n",
       "      <td>54</td>\n",
       "      <td>-0.002903</td>\n",
       "      <td>0.016326</td>\n",
       "    </tr>\n",
       "    <tr>\n",
       "      <th>29</th>\n",
       "      <td>2008</td>\n",
       "      <td>2015</td>\n",
       "      <td>(0, 7)</td>\n",
       "      <td>[2, 3]</td>\n",
       "      <td>2</td>\n",
       "      <td>-0.013755</td>\n",
       "      <td>0.007658</td>\n",
       "    </tr>\n",
       "    <tr>\n",
       "      <th>30</th>\n",
       "      <td>2008</td>\n",
       "      <td>2015</td>\n",
       "      <td>(0, 7)</td>\n",
       "      <td>[3, 4]</td>\n",
       "      <td>30</td>\n",
       "      <td>0.000048</td>\n",
       "      <td>0.001103</td>\n",
       "    </tr>\n",
       "    <tr>\n",
       "      <th>31</th>\n",
       "      <td>2008</td>\n",
       "      <td>2015</td>\n",
       "      <td>(7, 7)</td>\n",
       "      <td>[0, 10]</td>\n",
       "      <td>73</td>\n",
       "      <td>-0.000466</td>\n",
       "      <td>0.009524</td>\n",
       "    </tr>\n",
       "    <tr>\n",
       "      <th>32</th>\n",
       "      <td>2008</td>\n",
       "      <td>2015</td>\n",
       "      <td>(7, 7)</td>\n",
       "      <td>[0, 4]</td>\n",
       "      <td>73</td>\n",
       "      <td>-0.000466</td>\n",
       "      <td>0.009524</td>\n",
       "    </tr>\n",
       "    <tr>\n",
       "      <th>33</th>\n",
       "      <td>2008</td>\n",
       "      <td>2015</td>\n",
       "      <td>(7, 7)</td>\n",
       "      <td>[0, 5]</td>\n",
       "      <td>73</td>\n",
       "      <td>-0.000466</td>\n",
       "      <td>0.009524</td>\n",
       "    </tr>\n",
       "    <tr>\n",
       "      <th>34</th>\n",
       "      <td>2008</td>\n",
       "      <td>2015</td>\n",
       "      <td>(7, 7)</td>\n",
       "      <td>[0, 6]</td>\n",
       "      <td>73</td>\n",
       "      <td>-0.000466</td>\n",
       "      <td>0.009524</td>\n",
       "    </tr>\n",
       "    <tr>\n",
       "      <th>35</th>\n",
       "      <td>2008</td>\n",
       "      <td>2015</td>\n",
       "      <td>(7, 7)</td>\n",
       "      <td>[0, 7]</td>\n",
       "      <td>73</td>\n",
       "      <td>-0.000466</td>\n",
       "      <td>0.009524</td>\n",
       "    </tr>\n",
       "    <tr>\n",
       "      <th>36</th>\n",
       "      <td>2008</td>\n",
       "      <td>2015</td>\n",
       "      <td>(7, 7)</td>\n",
       "      <td>[0, 8]</td>\n",
       "      <td>73</td>\n",
       "      <td>-0.000466</td>\n",
       "      <td>0.009524</td>\n",
       "    </tr>\n",
       "    <tr>\n",
       "      <th>37</th>\n",
       "      <td>2008</td>\n",
       "      <td>2015</td>\n",
       "      <td>(7, 7)</td>\n",
       "      <td>[0, 9]</td>\n",
       "      <td>73</td>\n",
       "      <td>-0.000466</td>\n",
       "      <td>0.009524</td>\n",
       "    </tr>\n",
       "    <tr>\n",
       "      <th>38</th>\n",
       "      <td>2008</td>\n",
       "      <td>2015</td>\n",
       "      <td>(7, 7)</td>\n",
       "      <td>[1, 2]</td>\n",
       "      <td>40</td>\n",
       "      <td>0.000055</td>\n",
       "      <td>0.012325</td>\n",
       "    </tr>\n",
       "    <tr>\n",
       "      <th>39</th>\n",
       "      <td>2008</td>\n",
       "      <td>2015</td>\n",
       "      <td>(7, 7)</td>\n",
       "      <td>[10, 80]</td>\n",
       "      <td>54</td>\n",
       "      <td>-0.000197</td>\n",
       "      <td>0.004966</td>\n",
       "    </tr>\n",
       "    <tr>\n",
       "      <th>40</th>\n",
       "      <td>2008</td>\n",
       "      <td>2015</td>\n",
       "      <td>(7, 7)</td>\n",
       "      <td>[2, 3]</td>\n",
       "      <td>2</td>\n",
       "      <td>-0.016485</td>\n",
       "      <td>0.007658</td>\n",
       "    </tr>\n",
       "    <tr>\n",
       "      <th>41</th>\n",
       "      <td>2008</td>\n",
       "      <td>2015</td>\n",
       "      <td>(7, 7)</td>\n",
       "      <td>[3, 4]</td>\n",
       "      <td>31</td>\n",
       "      <td>-0.000106</td>\n",
       "      <td>0.000820</td>\n",
       "    </tr>\n",
       "  </tbody>\n",
       "</table>\n",
       "</div>"
      ],
      "text/plain": [
       "    year1  year2 post-race_date_window monitor_to_track_window  \\\n",
       "0    1990   2006                (0, 7)                 [0, 10]   \n",
       "1    1990   2006                (0, 7)                  [0, 4]   \n",
       "2    1990   2006                (0, 7)                  [0, 5]   \n",
       "3    1990   2006                (0, 7)                  [0, 6]   \n",
       "4    1990   2006                (0, 7)                  [0, 7]   \n",
       "5    1990   2006                (0, 7)                  [0, 8]   \n",
       "6    1990   2006                (0, 7)                  [0, 9]   \n",
       "7    1990   2006                (0, 7)                  [1, 2]   \n",
       "8    1990   2006                (0, 7)                [10, 80]   \n",
       "9    1990   2006                (0, 7)                  [3, 4]   \n",
       "10   1990   2006                (7, 7)                 [0, 10]   \n",
       "11   1990   2006                (7, 7)                  [0, 4]   \n",
       "12   1990   2006                (7, 7)                  [0, 5]   \n",
       "13   1990   2006                (7, 7)                  [0, 6]   \n",
       "14   1990   2006                (7, 7)                  [0, 7]   \n",
       "15   1990   2006                (7, 7)                  [0, 8]   \n",
       "16   1990   2006                (7, 7)                  [0, 9]   \n",
       "17   1990   2006                (7, 7)                  [1, 2]   \n",
       "18   1990   2006                (7, 7)                [10, 80]   \n",
       "19   1990   2006                (7, 7)                  [3, 4]   \n",
       "20   2008   2015                (0, 7)                 [0, 10]   \n",
       "21   2008   2015                (0, 7)                  [0, 4]   \n",
       "22   2008   2015                (0, 7)                  [0, 5]   \n",
       "23   2008   2015                (0, 7)                  [0, 6]   \n",
       "24   2008   2015                (0, 7)                  [0, 7]   \n",
       "25   2008   2015                (0, 7)                  [0, 8]   \n",
       "26   2008   2015                (0, 7)                  [0, 9]   \n",
       "27   2008   2015                (0, 7)                  [1, 2]   \n",
       "28   2008   2015                (0, 7)                [10, 80]   \n",
       "29   2008   2015                (0, 7)                  [2, 3]   \n",
       "30   2008   2015                (0, 7)                  [3, 4]   \n",
       "31   2008   2015                (7, 7)                 [0, 10]   \n",
       "32   2008   2015                (7, 7)                  [0, 4]   \n",
       "33   2008   2015                (7, 7)                  [0, 5]   \n",
       "34   2008   2015                (7, 7)                  [0, 6]   \n",
       "35   2008   2015                (7, 7)                  [0, 7]   \n",
       "36   2008   2015                (7, 7)                  [0, 8]   \n",
       "37   2008   2015                (7, 7)                  [0, 9]   \n",
       "38   2008   2015                (7, 7)                  [1, 2]   \n",
       "39   2008   2015                (7, 7)                [10, 80]   \n",
       "40   2008   2015                (7, 7)                  [2, 3]   \n",
       "41   2008   2015                (7, 7)                  [3, 4]   \n",
       "\n",
       "    # DIFF-Lead-Obs  DIFF-Lead-Mean  DIFF-Lead-Std  \n",
       "0                77       -0.001589       0.030416  \n",
       "1                77       -0.001589       0.030416  \n",
       "2                77       -0.001589       0.030416  \n",
       "3                77       -0.001589       0.030416  \n",
       "4                77       -0.001589       0.030416  \n",
       "5                77       -0.001589       0.030416  \n",
       "6                77       -0.001589       0.030416  \n",
       "7                65       -0.001989       0.033119  \n",
       "8                54       -0.000785       0.008218  \n",
       "9                12        0.000579       0.001988  \n",
       "10               78        0.001916       0.021400  \n",
       "11               78        0.001916       0.021400  \n",
       "12               78        0.001916       0.021400  \n",
       "13               78        0.001916       0.021400  \n",
       "14               78        0.001916       0.021400  \n",
       "15               78        0.001916       0.021400  \n",
       "16               78        0.001916       0.021400  \n",
       "17               66        0.002190       0.023265  \n",
       "18               55       -0.000506       0.005852  \n",
       "19               12        0.000412       0.002091  \n",
       "20               72       -0.001379       0.013069  \n",
       "21               72       -0.001379       0.013069  \n",
       "22               72       -0.001379       0.013069  \n",
       "23               72       -0.001379       0.013069  \n",
       "24               72       -0.001379       0.013069  \n",
       "25               72       -0.001379       0.013069  \n",
       "26               72       -0.001379       0.013069  \n",
       "27               40       -0.001831       0.017288  \n",
       "28               54       -0.002903       0.016326  \n",
       "29                2       -0.013755       0.007658  \n",
       "30               30        0.000048       0.001103  \n",
       "31               73       -0.000466       0.009524  \n",
       "32               73       -0.000466       0.009524  \n",
       "33               73       -0.000466       0.009524  \n",
       "34               73       -0.000466       0.009524  \n",
       "35               73       -0.000466       0.009524  \n",
       "36               73       -0.000466       0.009524  \n",
       "37               73       -0.000466       0.009524  \n",
       "38               40        0.000055       0.012325  \n",
       "39               54       -0.000197       0.004966  \n",
       "40                2       -0.016485       0.007658  \n",
       "41               31       -0.000106       0.000820  "
      ]
     },
     "execution_count": 33,
     "metadata": {},
     "output_type": "execute_result"
    }
   ],
   "source": [
    "data = []\n",
    "for year1, year2 in [(1990,2006), (2008, 2015)]:\n",
    "    for name, df in all_df.groupby([\"days_before_after\",\"distance_window\"]):\n",
    "        \n",
    "        filt_df = filt_for_date(df, year1, year2)\n",
    "        \n",
    "        if len(filt_df)==0:\n",
    "            print(name)\n",
    "            continue\n",
    "        \n",
    "        length = len(filt_df)\n",
    "        mean_diff = filt_df[\"DIFF-Lead\"].mean()\n",
    "        std_diff = filt_df[\"DIFF-Lead\"].std()\n",
    "        data.append([year1, year2, name[0], name[1], length, mean_diff, std_diff])\n",
    "        \n",
    "summary_df = pd.DataFrame(data, columns=[\"year1\", \"year2\", \"post-race_date_window\", \"monitor_to_track_window\", \n",
    "                                        \"# DIFF-Lead-Obs\", \"DIFF-Lead-Mean\", \"DIFF-Lead-Std\"])\n",
    "summary_df"
   ]
  },
  {
   "cell_type": "code",
   "execution_count": 34,
   "metadata": {},
   "outputs": [
    {
     "data": {
      "text/plain": [
       "2617"
      ]
     },
     "execution_count": 34,
     "metadata": {},
     "output_type": "execute_result"
    }
   ],
   "source": [
    "summary_df['# DIFF-Lead-Obs'].sum()"
   ]
  },
  {
   "cell_type": "code",
   "execution_count": 35,
   "metadata": {},
   "outputs": [],
   "source": [
    "summary_df.to_csv('summary_table.csv')"
   ]
  },
  {
   "cell_type": "markdown",
   "metadata": {},
   "source": [
    "### Check how frequent there are readings with multiple readings on same date from same monitoring location"
   ]
  },
  {
   "cell_type": "code",
   "execution_count": 36,
   "metadata": {},
   "outputs": [],
   "source": [
    "id_list = []\n",
    "def get_ids(ids):\n",
    "    for x in ids:\n",
    "        id_list.append(x)"
   ]
  },
  {
   "cell_type": "code",
   "execution_count": 37,
   "metadata": {},
   "outputs": [
    {
     "data": {
      "text/plain": [
       "2      None\n",
       "32     None\n",
       "64     None\n",
       "33     None\n",
       "78     None\n",
       "       ... \n",
       "135    None\n",
       "188    None\n",
       "122    None\n",
       "199    None\n",
       "204    None\n",
       "Name: post_ids, Length: 3906, dtype: object"
      ]
     },
     "execution_count": 37,
     "metadata": {},
     "output_type": "execute_result"
    }
   ],
   "source": [
    "all_df['post_ids'].apply(lambda x: get_ids(x))"
   ]
  },
  {
   "cell_type": "code",
   "execution_count": 38,
   "metadata": {},
   "outputs": [],
   "source": [
    "unique_ids = set(id_list)"
   ]
  },
  {
   "cell_type": "code",
   "execution_count": 39,
   "metadata": {},
   "outputs": [
    {
     "data": {
      "text/plain": [
       "37"
      ]
     },
     "execution_count": 39,
     "metadata": {},
     "output_type": "execute_result"
    }
   ],
   "source": [
    "len(unique_ids)"
   ]
  },
  {
   "cell_type": "code",
   "execution_count": 40,
   "metadata": {
    "scrolled": true
   },
   "outputs": [
    {
     "data": {
      "text/plain": [
       "{860,\n",
       " 1814,\n",
       " 1891,\n",
       " 1926,\n",
       " 2071,\n",
       " 2084,\n",
       " 2088,\n",
       " 2089,\n",
       " 2090,\n",
       " 2091,\n",
       " 2098,\n",
       " 2261,\n",
       " 2279,\n",
       " 2286,\n",
       " 2290,\n",
       " 2329,\n",
       " 2338,\n",
       " 2342,\n",
       " 2412,\n",
       " 2449}"
      ]
     },
     "execution_count": 40,
     "metadata": {},
     "output_type": "execute_result"
    }
   ],
   "source": [
    "dup_ids = []\n",
    "\n",
    "for pre_ids, post_ids, pre_dups, post_dups in zip(all_df.pre_ids, all_df.post_ids, \n",
    "                                                  all_df.pre_dups, all_df.post_dups): \n",
    "    for pre_id, post_id, pre_dup, post_dup in zip(pre_ids, post_ids, pre_dups, post_dups):\n",
    "        \n",
    "        if pre_dup==True:\n",
    "            dup_ids.append(pre_id)\n",
    "        \n",
    "        if post_dup==True:\n",
    "            dup_ids.append(post_id)\n",
    "dup_ids = set(dup_ids)\n",
    "dup_ids"
   ]
  },
  {
   "cell_type": "code",
   "execution_count": 41,
   "metadata": {},
   "outputs": [
    {
     "data": {
      "text/plain": [
       "20"
      ]
     },
     "execution_count": 41,
     "metadata": {},
     "output_type": "execute_result"
    }
   ],
   "source": [
    "len(dup_ids)"
   ]
  },
  {
   "cell_type": "code",
   "execution_count": 42,
   "metadata": {},
   "outputs": [],
   "source": [
    "def check_dup(id_list):\n",
    "    for monitorID in id_list:\n",
    "        if monitorID in dup_ids: ### dup_ids above\n",
    "            return True\n",
    "        else:\n",
    "            return False"
   ]
  },
  {
   "cell_type": "code",
   "execution_count": 43,
   "metadata": {},
   "outputs": [],
   "source": [
    "all_df[\"post_id_dup\"] = all_df[\"post_ids\"].apply(check_dup) #, args=list(dup_ids))\n",
    "all_df[\"pre_id_dup\"] = all_df[\"pre_ids\"].apply(check_dup) #, args=list(dup_ids))"
   ]
  },
  {
   "cell_type": "code",
   "execution_count": 44,
   "metadata": {},
   "outputs": [
    {
     "data": {
      "text/plain": [
       "True     2826\n",
       "False    1080\n",
       "Name: pre_id_dup, dtype: int64"
      ]
     },
     "execution_count": 44,
     "metadata": {},
     "output_type": "execute_result"
    }
   ],
   "source": [
    "all_df[\"pre_id_dup\"].value_counts()"
   ]
  },
  {
   "cell_type": "markdown",
   "metadata": {},
   "source": [
    "### Create a graph that shows average difference in lead readings by distance of monitoring station to the track"
   ]
  },
  {
   "cell_type": "code",
   "execution_count": 45,
   "metadata": {},
   "outputs": [],
   "source": [
    "all_df[\"pre_distance_km_mean\"] = all_df[\"pre_distances_km\"].apply(lambda x: np.mean(x))\n",
    "all_df[\"post_distance_km_mean\"] = all_df[\"post_distances_km\"].apply(lambda x: np.mean(x))"
   ]
  },
  {
   "cell_type": "code",
   "execution_count": 46,
   "metadata": {
    "scrolled": true
   },
   "outputs": [
    {
     "data": {
      "text/plain": [
       "<AxesSubplot:>"
      ]
     },
     "execution_count": 46,
     "metadata": {},
     "output_type": "execute_result"
    },
    {
     "data": {
      "image/png": "[encoded data removed]",
      "text/plain": [
       "<Figure size 432x288 with 1 Axes>"
      ]
     },
     "metadata": {
      "needs_background": "light"
     },
     "output_type": "display_data"
    }
   ],
   "source": [
    "all_df[\"DIFF-Lead\"].hist(log=True)"
   ]
  },
  {
   "cell_type": "code",
   "execution_count": 47,
   "metadata": {},
   "outputs": [
    {
     "data": {
      "text/plain": [
       "<matplotlib.legend.Legend at 0x7f99689dadf0>"
      ]
     },
     "execution_count": 47,
     "metadata": {},
     "output_type": "execute_result"
    },
    {
     "data": {
      "image/png": "[encoded data removed]",
      "text/plain": [
       "<Figure size 576x432 with 1 Axes>"
      ]
     },
     "metadata": {
      "needs_background": "light"
     },
     "output_type": "display_data"
    }
   ],
   "source": [
    "fig, ax = plt.subplots(figsize=(8,6))\n",
    "\n",
    "colors = {\"rich\":\"red\",\n",
    "          \"auto\":\"green\",\n",
    "          \"bris\":\"blue\"}\n",
    "\n",
    "for name, df in all_df.groupby(\"Track\"):\n",
    "    df.plot(x=\"DIFF-Lead\", y=\"pre_distance_km_mean\", kind=\"scatter\", label=name, color=colors[name[:4].lower()], ax=ax)\n",
    "\n",
    "plt.title(\"Difference in Lead Pre Race vs. Monitor Distance to Track\", fontsize=16)\n",
    "plt.xlabel('Difference in Lead Pre Race', fontsize=16)\n",
    "plt.ylabel('Monitor Distance to Track (km)', fontsize=16)\n",
    "plt.xticks(rotation=90)\n",
    "\n",
    "ax.tick_params(axis='both', which='major', labelsize=13)\n",
    "\n",
    "plt.legend(fontsize=14, frameon=True)"
   ]
  },
  {
   "cell_type": "code",
   "execution_count": 48,
   "metadata": {},
   "outputs": [
    {
     "data": {
      "text/plain": [
       "<matplotlib.legend.Legend at 0x7f995a499760>"
      ]
     },
     "execution_count": 48,
     "metadata": {},
     "output_type": "execute_result"
    },
    {
     "data": {
      "image/png": "[encoded data removed]",
      "text/plain": [
       "<Figure size 576x432 with 1 Axes>"
      ]
     },
     "metadata": {
      "needs_background": "light"
     },
     "output_type": "display_data"
    }
   ],
   "source": [
    "fig, ax = plt.subplots(figsize=(8,6))\n",
    "\n",
    "colors = {\"rich\":\"red\",\n",
    "          \"auto\":\"green\",\n",
    "          \"bris\":\"blue\"}\n",
    "\n",
    "for name, df in all_df.groupby(\"Track\"):\n",
    "    df.plot(x=\"DIFF-Lead\", y=\"post_distance_km_mean\", kind=\"scatter\", label=name, color=colors[name[:4].lower()], ax=ax)\n",
    "\n",
    "plt.title(\"Average Difference in Lead vs. Monitor Distance to Track\", fontsize=14)\n",
    "plt.xlabel('Mean DIFF-lead', fontsize=13)\n",
    "plt.ylabel('Monitor Distance to Track (km)', fontsize=14)\n",
    "plt.xticks(rotation=90)\n",
    "\n",
    "ax.tick_params(axis='both', which='major', labelsize=13)\n",
    "\n",
    "plt.legend(fontsize=12, frameon=True)"
   ]
  },
  {
   "cell_type": "markdown",
   "metadata": {},
   "source": [
    "### Monitor-Year Frame With All Columns From Track Data"
   ]
  },
  {
   "cell_type": "code",
   "execution_count": 49,
   "metadata": {},
   "outputs": [],
   "source": [
    "out_dfs = []"
   ]
  },
  {
   "cell_type": "code",
   "execution_count": 50,
   "metadata": {},
   "outputs": [],
   "source": [
    "def get_yearly_readings(ID, distance, coord):\n",
    "    id_frame = (daily_lead_df[daily_lead_df['monitorID']==ID].groupby(['year'])['monitorID'].value_counts().to_frame()\n",
    "                                                   .rename(columns={'monitorID': 'readings'}).reset_index())\n",
    "    id_frame['dist_from_track'] = distance\n",
    "    lat, long = coord\n",
    "    id_frame['monitor_lat'] = lat\n",
    "    id_frame['monitor_long'] = long\n",
    "    return id_frame"
   ]
  },
  {
   "cell_type": "code",
   "execution_count": 51,
   "metadata": {},
   "outputs": [],
   "source": [
    "for i in range(len(stations_50mi_df)):\n",
    "    row = stations_50mi_df.iloc[[i]]\n",
    "    id_list = stations_50mi_df['ids'].iloc[i]\n",
    "    dis_list = stations_50mi_df['distances'].iloc[i]\n",
    "    points_list = stations_50mi_df['points_within_50mi'].iloc[i]\n",
    "    \n",
    "    for (ID, distance, coord) in zip(id_list, dis_list, points_list):\n",
    "    \n",
    "        each_id = get_yearly_readings(ID, distance, coord)\n",
    "        repeat_tracks = pd.concat([row]*(len(each_id)), ignore_index=True)\n",
    "        concat_with_ids = pd.concat([each_id, repeat_tracks], axis=1)\n",
    "        out_dfs.append(concat_with_ids)"
   ]
  },
  {
   "cell_type": "code",
   "execution_count": 52,
   "metadata": {
    "scrolled": false
   },
   "outputs": [],
   "source": [
    "out_df_extra_cols = pd.concat(out_dfs)"
   ]
  },
  {
   "cell_type": "code",
   "execution_count": 53,
   "metadata": {},
   "outputs": [],
   "source": [
    "monitor_year_track = (out_df_extra_cols.drop(columns=['point', 'points_within_50mi', 'ids', \n",
    "                     'distances', 'num_stations', 'mean (mi)','std (mi)',\n",
    "                     'max_dist (mi)', 'max_dist (mi)', 'min_dist (mi)']).reset_index(drop=True))"
   ]
  },
  {
   "cell_type": "code",
   "execution_count": 54,
   "metadata": {
    "scrolled": false
   },
   "outputs": [
    {
     "data": {
      "text/html": [
       "<div>\n",
       "<style scoped>\n",
       "    .dataframe tbody tr th:only-of-type {\n",
       "        vertical-align: middle;\n",
       "    }\n",
       "\n",
       "    .dataframe tbody tr th {\n",
       "        vertical-align: top;\n",
       "    }\n",
       "\n",
       "    .dataframe thead th {\n",
       "        text-align: right;\n",
       "    }\n",
       "</style>\n",
       "<table border=\"1\" class=\"dataframe\">\n",
       "  <thead>\n",
       "    <tr style=\"text-align: right;\">\n",
       "      <th></th>\n",
       "      <th>year</th>\n",
       "      <th>monitorID</th>\n",
       "      <th>readings</th>\n",
       "      <th>dist_from_track</th>\n",
       "      <th>monitor_lat</th>\n",
       "      <th>monitor_long</th>\n",
       "      <th>obs</th>\n",
       "      <th>TrackID</th>\n",
       "      <th>State</th>\n",
       "      <th>City</th>\n",
       "      <th>lat</th>\n",
       "      <th>long</th>\n",
       "      <th>lat_Google_Maps</th>\n",
       "      <th>long_Google_Maps</th>\n",
       "      <th>track name</th>\n",
       "      <th>H_R</th>\n",
       "      <th>NASCAR_truck</th>\n",
       "      <th>NASCAR</th>\n",
       "      <th>ARCA</th>\n",
       "    </tr>\n",
       "  </thead>\n",
       "  <tbody>\n",
       "    <tr>\n",
       "      <th>0</th>\n",
       "      <td>1981</td>\n",
       "      <td>340</td>\n",
       "      <td>30</td>\n",
       "      <td>30.6878</td>\n",
       "      <td>34.011208</td>\n",
       "      <td>-86.057472</td>\n",
       "      <td>0</td>\n",
       "      <td>AL-1</td>\n",
       "      <td>AL</td>\n",
       "      <td>Talladega</td>\n",
       "      <td>33.564929</td>\n",
       "      <td>-86.066571</td>\n",
       "      <td>33.567117</td>\n",
       "      <td>-86.066168</td>\n",
       "      <td>Talladega Superspeedway - Alabama Internationa...</td>\n",
       "      <td>1</td>\n",
       "      <td>1</td>\n",
       "      <td>1</td>\n",
       "      <td>1</td>\n",
       "    </tr>\n",
       "    <tr>\n",
       "      <th>1</th>\n",
       "      <td>1982</td>\n",
       "      <td>340</td>\n",
       "      <td>30</td>\n",
       "      <td>30.6878</td>\n",
       "      <td>34.011208</td>\n",
       "      <td>-86.057472</td>\n",
       "      <td>0</td>\n",
       "      <td>AL-1</td>\n",
       "      <td>AL</td>\n",
       "      <td>Talladega</td>\n",
       "      <td>33.564929</td>\n",
       "      <td>-86.066571</td>\n",
       "      <td>33.567117</td>\n",
       "      <td>-86.066168</td>\n",
       "      <td>Talladega Superspeedway - Alabama Internationa...</td>\n",
       "      <td>1</td>\n",
       "      <td>1</td>\n",
       "      <td>1</td>\n",
       "      <td>1</td>\n",
       "    </tr>\n",
       "    <tr>\n",
       "      <th>2</th>\n",
       "      <td>1983</td>\n",
       "      <td>340</td>\n",
       "      <td>26</td>\n",
       "      <td>30.6878</td>\n",
       "      <td>34.011208</td>\n",
       "      <td>-86.057472</td>\n",
       "      <td>0</td>\n",
       "      <td>AL-1</td>\n",
       "      <td>AL</td>\n",
       "      <td>Talladega</td>\n",
       "      <td>33.564929</td>\n",
       "      <td>-86.066571</td>\n",
       "      <td>33.567117</td>\n",
       "      <td>-86.066168</td>\n",
       "      <td>Talladega Superspeedway - Alabama Internationa...</td>\n",
       "      <td>1</td>\n",
       "      <td>1</td>\n",
       "      <td>1</td>\n",
       "      <td>1</td>\n",
       "    </tr>\n",
       "    <tr>\n",
       "      <th>3</th>\n",
       "      <td>1984</td>\n",
       "      <td>340</td>\n",
       "      <td>27</td>\n",
       "      <td>30.6878</td>\n",
       "      <td>34.011208</td>\n",
       "      <td>-86.057472</td>\n",
       "      <td>0</td>\n",
       "      <td>AL-1</td>\n",
       "      <td>AL</td>\n",
       "      <td>Talladega</td>\n",
       "      <td>33.564929</td>\n",
       "      <td>-86.066571</td>\n",
       "      <td>33.567117</td>\n",
       "      <td>-86.066168</td>\n",
       "      <td>Talladega Superspeedway - Alabama Internationa...</td>\n",
       "      <td>1</td>\n",
       "      <td>1</td>\n",
       "      <td>1</td>\n",
       "      <td>1</td>\n",
       "    </tr>\n",
       "    <tr>\n",
       "      <th>4</th>\n",
       "      <td>1985</td>\n",
       "      <td>340</td>\n",
       "      <td>25</td>\n",
       "      <td>30.6878</td>\n",
       "      <td>34.011208</td>\n",
       "      <td>-86.057472</td>\n",
       "      <td>0</td>\n",
       "      <td>AL-1</td>\n",
       "      <td>AL</td>\n",
       "      <td>Talladega</td>\n",
       "      <td>33.564929</td>\n",
       "      <td>-86.066571</td>\n",
       "      <td>33.567117</td>\n",
       "      <td>-86.066168</td>\n",
       "      <td>Talladega Superspeedway - Alabama Internationa...</td>\n",
       "      <td>1</td>\n",
       "      <td>1</td>\n",
       "      <td>1</td>\n",
       "      <td>1</td>\n",
       "    </tr>\n",
       "  </tbody>\n",
       "</table>\n",
       "</div>"
      ],
      "text/plain": [
       "   year  monitorID  readings  dist_from_track  monitor_lat  monitor_long  obs  \\\n",
       "0  1981        340        30          30.6878    34.011208    -86.057472    0   \n",
       "1  1982        340        30          30.6878    34.011208    -86.057472    0   \n",
       "2  1983        340        26          30.6878    34.011208    -86.057472    0   \n",
       "3  1984        340        27          30.6878    34.011208    -86.057472    0   \n",
       "4  1985        340        25          30.6878    34.011208    -86.057472    0   \n",
       "\n",
       "  TrackID State       City        lat       long  lat_Google_Maps  \\\n",
       "0    AL-1    AL  Talladega  33.564929 -86.066571        33.567117   \n",
       "1    AL-1    AL  Talladega  33.564929 -86.066571        33.567117   \n",
       "2    AL-1    AL  Talladega  33.564929 -86.066571        33.567117   \n",
       "3    AL-1    AL  Talladega  33.564929 -86.066571        33.567117   \n",
       "4    AL-1    AL  Talladega  33.564929 -86.066571        33.567117   \n",
       "\n",
       "   long_Google_Maps                                         track name  H_R  \\\n",
       "0        -86.066168  Talladega Superspeedway - Alabama Internationa...    1   \n",
       "1        -86.066168  Talladega Superspeedway - Alabama Internationa...    1   \n",
       "2        -86.066168  Talladega Superspeedway - Alabama Internationa...    1   \n",
       "3        -86.066168  Talladega Superspeedway - Alabama Internationa...    1   \n",
       "4        -86.066168  Talladega Superspeedway - Alabama Internationa...    1   \n",
       "\n",
       "   NASCAR_truck  NASCAR  ARCA  \n",
       "0             1       1     1  \n",
       "1             1       1     1  \n",
       "2             1       1     1  \n",
       "3             1       1     1  \n",
       "4             1       1     1  "
      ]
     },
     "execution_count": 54,
     "metadata": {},
     "output_type": "execute_result"
    }
   ],
   "source": [
    "monitor_year_track.head()"
   ]
  }
 ],
 "metadata": {
  "kernelspec": {
   "display_name": "Python 3",
   "language": "python",
   "name": "python3"
  },
  "language_info": {
   "codemirror_mode": {
    "name": "ipython",
    "version": 3
   },
   "file_extension": ".py",
   "mimetype": "text/x-python",
   "name": "python",
   "nbconvert_exporter": "python",
   "pygments_lexer": "ipython3",
   "version": "3.8.5"
  }
 },
 "nbformat": 4,
 "nbformat_minor": 4
}
