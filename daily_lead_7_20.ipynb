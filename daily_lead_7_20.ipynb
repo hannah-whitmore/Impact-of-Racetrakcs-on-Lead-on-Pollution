{
 "cells": [
  {
   "cell_type": "code",
   "execution_count": 1,
   "metadata": {},
   "outputs": [],
   "source": [
    "import pandas as pd\n",
    "import numpy as np\n",
    "import matplotlib.pyplot as plt\n",
    "from haversine import haversine, Unit\n",
    "import itertools\n",
    "import datetime\n",
    "from tqdm.notebook import tqdm\n",
    "pd.set_option('display.max_columns', None)"
   ]
  },
  {
   "cell_type": "markdown",
   "metadata": {},
   "source": [
    "### Read in and Clean DFS"
   ]
  },
  {
   "cell_type": "code",
   "execution_count": 2,
   "metadata": {},
   "outputs": [],
   "source": [
    "daily_lead_df = pd.read_csv('../input_data/daily_lead_80_20.csv')"
   ]
  },
  {
   "cell_type": "code",
   "execution_count": 3,
   "metadata": {},
   "outputs": [],
   "source": [
    "daily_lead_df['point'] = [(x, y) for x,y in zip(daily_lead_df['latitude'], daily_lead_df['longitude'])]"
   ]
  },
  {
   "cell_type": "code",
   "execution_count": 4,
   "metadata": {},
   "outputs": [],
   "source": [
    "daily_lead_df['date'] = pd.to_datetime(daily_lead_df['date1'])"
   ]
  },
  {
   "cell_type": "code",
   "execution_count": 5,
   "metadata": {},
   "outputs": [],
   "source": [
    "unique_lead_df = pd.read_pickle(\"../../21_6_7/notebooks/daily_lead_unique.pkl\")"
   ]
  },
  {
   "cell_type": "code",
   "execution_count": 6,
   "metadata": {},
   "outputs": [],
   "source": [
    "stag_df = pd.read_stata('../input_data/air_stagnation_73_20.dta')"
   ]
  },
  {
   "cell_type": "code",
   "execution_count": 7,
   "metadata": {
    "scrolled": true
   },
   "outputs": [],
   "source": [
    "data = pd.io.stata.read_stata('../input_data/air_stagnation_73_20.dta')\n",
    "data.to_csv('my_stata_file.csv')\n",
    "air_stagnation = pd.read_csv('my_stata_file.csv')"
   ]
  },
  {
   "cell_type": "code",
   "execution_count": 8,
   "metadata": {},
   "outputs": [],
   "source": [
    "air_stagnation = air_stagnation.drop(columns='Unnamed: 0',axis=1)"
   ]
  },
  {
   "cell_type": "code",
   "execution_count": 9,
   "metadata": {},
   "outputs": [],
   "source": [
    "air_stagnation['cell_point'] = [(x, y) for x,y in zip(air_stagnation['lat'], air_stagnation['long'])]"
   ]
  },
  {
   "cell_type": "code",
   "execution_count": 10,
   "metadata": {},
   "outputs": [],
   "source": [
    "filt_lead_df = unique_lead_df[['Pb_mean', 'monitorID', 'year','month', 'day', 'date1', 'point']]"
   ]
  },
  {
   "cell_type": "code",
   "execution_count": 11,
   "metadata": {},
   "outputs": [],
   "source": [
    "filt_lead_df = filt_lead_df.reset_index(drop=True)"
   ]
  },
  {
   "cell_type": "code",
   "execution_count": 12,
   "metadata": {},
   "outputs": [],
   "source": [
    "unique_cells = air_stagnation.drop_duplicates(subset=\"cell_point\", keep='first',).copy()"
   ]
  },
  {
   "cell_type": "code",
   "execution_count": 13,
   "metadata": {},
   "outputs": [
    {
     "data": {
      "text/html": [
       "<div>\n",
       "<style scoped>\n",
       "    .dataframe tbody tr th:only-of-type {\n",
       "        vertical-align: middle;\n",
       "    }\n",
       "\n",
       "    .dataframe tbody tr th {\n",
       "        vertical-align: top;\n",
       "    }\n",
       "\n",
       "    .dataframe thead th {\n",
       "        text-align: right;\n",
       "    }\n",
       "</style>\n",
       "<table border=\"1\" class=\"dataframe\">\n",
       "  <thead>\n",
       "    <tr style=\"text-align: right;\">\n",
       "      <th></th>\n",
       "      <th>long</th>\n",
       "      <th>lat</th>\n",
       "      <th>stag_days</th>\n",
       "      <th>percent_stag_days</th>\n",
       "      <th>year</th>\n",
       "      <th>month</th>\n",
       "      <th>cell_point</th>\n",
       "    </tr>\n",
       "  </thead>\n",
       "  <tbody>\n",
       "    <tr>\n",
       "      <th>0</th>\n",
       "      <td>-124.75</td>\n",
       "      <td>48.50</td>\n",
       "      <td>0</td>\n",
       "      <td>0.0</td>\n",
       "      <td>1973</td>\n",
       "      <td>1</td>\n",
       "      <td>(48.5, -124.75)</td>\n",
       "    </tr>\n",
       "    <tr>\n",
       "      <th>1</th>\n",
       "      <td>-124.75</td>\n",
       "      <td>48.25</td>\n",
       "      <td>0</td>\n",
       "      <td>0.0</td>\n",
       "      <td>1973</td>\n",
       "      <td>1</td>\n",
       "      <td>(48.25, -124.75)</td>\n",
       "    </tr>\n",
       "    <tr>\n",
       "      <th>2</th>\n",
       "      <td>-124.75</td>\n",
       "      <td>48.00</td>\n",
       "      <td>0</td>\n",
       "      <td>0.0</td>\n",
       "      <td>1973</td>\n",
       "      <td>1</td>\n",
       "      <td>(48.0, -124.75)</td>\n",
       "    </tr>\n",
       "    <tr>\n",
       "      <th>3</th>\n",
       "      <td>-124.75</td>\n",
       "      <td>47.75</td>\n",
       "      <td>0</td>\n",
       "      <td>0.0</td>\n",
       "      <td>1973</td>\n",
       "      <td>1</td>\n",
       "      <td>(47.75, -124.75)</td>\n",
       "    </tr>\n",
       "    <tr>\n",
       "      <th>4</th>\n",
       "      <td>-124.50</td>\n",
       "      <td>48.50</td>\n",
       "      <td>0</td>\n",
       "      <td>0.0</td>\n",
       "      <td>1973</td>\n",
       "      <td>1</td>\n",
       "      <td>(48.5, -124.5)</td>\n",
       "    </tr>\n",
       "  </tbody>\n",
       "</table>\n",
       "</div>"
      ],
      "text/plain": [
       "     long    lat  stag_days  percent_stag_days  year  month        cell_point\n",
       "0 -124.75  48.50          0                0.0  1973      1   (48.5, -124.75)\n",
       "1 -124.75  48.25          0                0.0  1973      1  (48.25, -124.75)\n",
       "2 -124.75  48.00          0                0.0  1973      1   (48.0, -124.75)\n",
       "3 -124.75  47.75          0                0.0  1973      1  (47.75, -124.75)\n",
       "4 -124.50  48.50          0                0.0  1973      1    (48.5, -124.5)"
      ]
     },
     "execution_count": 13,
     "metadata": {},
     "output_type": "execute_result"
    }
   ],
   "source": [
    "unique_cells.head()"
   ]
  },
  {
   "cell_type": "code",
   "execution_count": 14,
   "metadata": {},
   "outputs": [],
   "source": [
    "# Find closest point from a list of points\n",
    "def closest_point(cell_point, monitor_points, monitor_ids):\n",
    "    # finds distance between each track and every monitoring station\n",
    "    dist = []\n",
    "    for p in monitor_points:\n",
    "        x = round(haversine(cell_point, p), 4)\n",
    "        dist.append(x)\n",
    "    \n",
    "    idx = dist.index(min(dist))\n",
    "    \n",
    "    nearest_monitor = monitor_points[idx]\n",
    "    distance = dist[idx]\n",
    "    monitorID = monitor_ids[idx]\n",
    "    return nearest_monitor, distance, monitorID"
   ]
  },
  {
   "cell_type": "code",
   "execution_count": 15,
   "metadata": {},
   "outputs": [],
   "source": [
    "monitor_points = list(filt_lead_df['point'])\n",
    "monitor_ids = list(filt_lead_df['monitorID'])"
   ]
  },
  {
   "cell_type": "code",
   "execution_count": 16,
   "metadata": {},
   "outputs": [
    {
     "data": {
      "application/vnd.jupyter.widget-view+json": {
       "model_id": "77ce9ef5b4724184958fab0c956f3095",
       "version_major": 2,
       "version_minor": 0
      },
      "text/plain": [
       "HBox(children=(HTML(value=''), FloatProgress(value=0.0, max=14057.0), HTML(value='')))"
      ]
     },
     "metadata": {},
     "output_type": "display_data"
    },
    {
     "name": "stdout",
     "output_type": "stream",
     "text": [
      "\n"
     ]
    }
   ],
   "source": [
    "unique_cell_points = set(unique_cells['cell_point'])\n",
    "unique_cells['closest_monitor'] = [closest_point(x, monitor_points, monitor_ids) for x in tqdm(unique_cell_points)]"
   ]
  },
  {
   "cell_type": "code",
   "execution_count": 17,
   "metadata": {},
   "outputs": [],
   "source": [
    "unique_cells['nearest_monitor'] = unique_cells[\"closest_monitor\"].apply(lambda x: x[2])\n",
    "unique_cells['distance (km)'] = unique_cells[\"closest_monitor\"].apply(lambda x: x[1])\n",
    "unique_cells['monitor_coord'] = unique_cells[\"closest_monitor\"].apply(lambda x: x[0])\n",
    "unique_cells = unique_cells.drop(columns=\"closest_monitor\").copy()"
   ]
  },
  {
   "cell_type": "markdown",
   "metadata": {},
   "source": [
    "### In-fill `air_stagnation` with `unique_cell` stats"
   ]
  },
  {
   "cell_type": "code",
   "execution_count": 18,
   "metadata": {},
   "outputs": [
    {
     "data": {
      "text/html": [
       "<div>\n",
       "<style scoped>\n",
       "    .dataframe tbody tr th:only-of-type {\n",
       "        vertical-align: middle;\n",
       "    }\n",
       "\n",
       "    .dataframe tbody tr th {\n",
       "        vertical-align: top;\n",
       "    }\n",
       "\n",
       "    .dataframe thead th {\n",
       "        text-align: right;\n",
       "    }\n",
       "</style>\n",
       "<table border=\"1\" class=\"dataframe\">\n",
       "  <thead>\n",
       "    <tr style=\"text-align: right;\">\n",
       "      <th></th>\n",
       "      <th>long</th>\n",
       "      <th>lat</th>\n",
       "      <th>stag_days</th>\n",
       "      <th>percent_stag_days</th>\n",
       "      <th>year</th>\n",
       "      <th>month</th>\n",
       "      <th>cell_point</th>\n",
       "      <th>nearest_monitor</th>\n",
       "      <th>distance (km)</th>\n",
       "      <th>monitor_coord</th>\n",
       "    </tr>\n",
       "  </thead>\n",
       "  <tbody>\n",
       "    <tr>\n",
       "      <th>0</th>\n",
       "      <td>-124.75</td>\n",
       "      <td>48.5</td>\n",
       "      <td>0</td>\n",
       "      <td>0.00</td>\n",
       "      <td>1973</td>\n",
       "      <td>1</td>\n",
       "      <td>(48.5, -124.75)</td>\n",
       "      <td>2144</td>\n",
       "      <td>107.2609</td>\n",
       "      <td>(43.098919, -75.22506)</td>\n",
       "    </tr>\n",
       "    <tr>\n",
       "      <th>1</th>\n",
       "      <td>-124.75</td>\n",
       "      <td>48.5</td>\n",
       "      <td>0</td>\n",
       "      <td>0.00</td>\n",
       "      <td>1974</td>\n",
       "      <td>1</td>\n",
       "      <td>(48.5, -124.75)</td>\n",
       "      <td>2144</td>\n",
       "      <td>107.2609</td>\n",
       "      <td>(43.098919, -75.22506)</td>\n",
       "    </tr>\n",
       "    <tr>\n",
       "      <th>2</th>\n",
       "      <td>-124.75</td>\n",
       "      <td>48.5</td>\n",
       "      <td>0</td>\n",
       "      <td>0.00</td>\n",
       "      <td>1975</td>\n",
       "      <td>1</td>\n",
       "      <td>(48.5, -124.75)</td>\n",
       "      <td>2144</td>\n",
       "      <td>107.2609</td>\n",
       "      <td>(43.098919, -75.22506)</td>\n",
       "    </tr>\n",
       "    <tr>\n",
       "      <th>3</th>\n",
       "      <td>-124.75</td>\n",
       "      <td>48.5</td>\n",
       "      <td>1</td>\n",
       "      <td>3.23</td>\n",
       "      <td>1976</td>\n",
       "      <td>1</td>\n",
       "      <td>(48.5, -124.75)</td>\n",
       "      <td>2144</td>\n",
       "      <td>107.2609</td>\n",
       "      <td>(43.098919, -75.22506)</td>\n",
       "    </tr>\n",
       "    <tr>\n",
       "      <th>4</th>\n",
       "      <td>-124.75</td>\n",
       "      <td>48.5</td>\n",
       "      <td>7</td>\n",
       "      <td>22.58</td>\n",
       "      <td>1977</td>\n",
       "      <td>1</td>\n",
       "      <td>(48.5, -124.75)</td>\n",
       "      <td>2144</td>\n",
       "      <td>107.2609</td>\n",
       "      <td>(43.098919, -75.22506)</td>\n",
       "    </tr>\n",
       "  </tbody>\n",
       "</table>\n",
       "</div>"
      ],
      "text/plain": [
       "     long   lat  stag_days  percent_stag_days  year  month       cell_point  \\\n",
       "0 -124.75  48.5          0               0.00  1973      1  (48.5, -124.75)   \n",
       "1 -124.75  48.5          0               0.00  1974      1  (48.5, -124.75)   \n",
       "2 -124.75  48.5          0               0.00  1975      1  (48.5, -124.75)   \n",
       "3 -124.75  48.5          1               3.23  1976      1  (48.5, -124.75)   \n",
       "4 -124.75  48.5          7              22.58  1977      1  (48.5, -124.75)   \n",
       "\n",
       "   nearest_monitor  distance (km)           monitor_coord  \n",
       "0             2144       107.2609  (43.098919, -75.22506)  \n",
       "1             2144       107.2609  (43.098919, -75.22506)  \n",
       "2             2144       107.2609  (43.098919, -75.22506)  \n",
       "3             2144       107.2609  (43.098919, -75.22506)  \n",
       "4             2144       107.2609  (43.098919, -75.22506)  "
      ]
     },
     "execution_count": 18,
     "metadata": {},
     "output_type": "execute_result"
    }
   ],
   "source": [
    "merge_df = air_stagnation.merge(unique_cells,\n",
    "                                     how=\"outer\",\n",
    "                                     on=[\"cell_point\", \"lat\", \"long\"])\n",
    "\n",
    "merge_df = merge_df.drop(columns=[x for x in merge_df.columns if \"_y\" in x])\n",
    "merge_df = merge_df.rename(columns={\"stag_days_x\":\"stag_days\",\n",
    "                                    \"percent_stag_days_x\":\"percent_stag_days\",\n",
    "                                    \"year_x\":\"year\",\n",
    "                                    \"month_x\":\"month\"})\n",
    "merge_df.head()"
   ]
  },
  {
   "cell_type": "code",
   "execution_count": 19,
   "metadata": {},
   "outputs": [
    {
     "data": {
      "text/plain": [
       "8096782"
      ]
     },
     "execution_count": 19,
     "metadata": {},
     "output_type": "execute_result"
    }
   ],
   "source": [
    "len(merge_df)"
   ]
  },
  {
   "cell_type": "code",
   "execution_count": 20,
   "metadata": {},
   "outputs": [],
   "source": [
    "grid_cells_to_monitor = merge_df.sort_values(['year', 'month']).reset_index(drop=True)"
   ]
  },
  {
   "cell_type": "code",
   "execution_count": 21,
   "metadata": {},
   "outputs": [],
   "source": [
    "grid_cells_to_monitor = grid_cells_to_monitor.rename(columns={'nearest_monitor': 'nearest_monitorID'})"
   ]
  },
  {
   "cell_type": "code",
   "execution_count": 22,
   "metadata": {},
   "outputs": [
    {
     "data": {
      "text/plain": [
       "62.14319593595711"
      ]
     },
     "execution_count": 22,
     "metadata": {},
     "output_type": "execute_result"
    }
   ],
   "source": [
    "unique_cells['distance (km)'].std()"
   ]
  },
  {
   "cell_type": "code",
   "execution_count": 23,
   "metadata": {},
   "outputs": [
    {
     "data": {
      "text/html": [
       "<div>\n",
       "<style scoped>\n",
       "    .dataframe tbody tr th:only-of-type {\n",
       "        vertical-align: middle;\n",
       "    }\n",
       "\n",
       "    .dataframe tbody tr th {\n",
       "        vertical-align: top;\n",
       "    }\n",
       "\n",
       "    .dataframe thead th {\n",
       "        text-align: right;\n",
       "    }\n",
       "</style>\n",
       "<table border=\"1\" class=\"dataframe\">\n",
       "  <thead>\n",
       "    <tr style=\"text-align: right;\">\n",
       "      <th></th>\n",
       "      <th>long</th>\n",
       "      <th>lat</th>\n",
       "      <th>stag_days</th>\n",
       "      <th>percent_stag_days</th>\n",
       "      <th>year</th>\n",
       "      <th>month</th>\n",
       "      <th>cell_point</th>\n",
       "      <th>nearest_monitorID</th>\n",
       "      <th>distance (km)</th>\n",
       "      <th>monitor_coord</th>\n",
       "    </tr>\n",
       "  </thead>\n",
       "  <tbody>\n",
       "    <tr>\n",
       "      <th>0</th>\n",
       "      <td>-124.75</td>\n",
       "      <td>48.50</td>\n",
       "      <td>0</td>\n",
       "      <td>0.0</td>\n",
       "      <td>1973</td>\n",
       "      <td>1</td>\n",
       "      <td>(48.5, -124.75)</td>\n",
       "      <td>2144</td>\n",
       "      <td>107.2609</td>\n",
       "      <td>(43.098919, -75.22506)</td>\n",
       "    </tr>\n",
       "    <tr>\n",
       "      <th>1</th>\n",
       "      <td>-124.75</td>\n",
       "      <td>48.25</td>\n",
       "      <td>0</td>\n",
       "      <td>0.0</td>\n",
       "      <td>1973</td>\n",
       "      <td>1</td>\n",
       "      <td>(48.25, -124.75)</td>\n",
       "      <td>421</td>\n",
       "      <td>111.2752</td>\n",
       "      <td>(44.989216, -74.712128)</td>\n",
       "    </tr>\n",
       "    <tr>\n",
       "      <th>2</th>\n",
       "      <td>-124.75</td>\n",
       "      <td>48.00</td>\n",
       "      <td>0</td>\n",
       "      <td>0.0</td>\n",
       "      <td>1973</td>\n",
       "      <td>1</td>\n",
       "      <td>(48.0, -124.75)</td>\n",
       "      <td>451</td>\n",
       "      <td>98.3872</td>\n",
       "      <td>(44.478939000000004, -73.211517)</td>\n",
       "    </tr>\n",
       "    <tr>\n",
       "      <th>3</th>\n",
       "      <td>-124.75</td>\n",
       "      <td>47.75</td>\n",
       "      <td>0</td>\n",
       "      <td>0.0</td>\n",
       "      <td>1973</td>\n",
       "      <td>1</td>\n",
       "      <td>(47.75, -124.75)</td>\n",
       "      <td>451</td>\n",
       "      <td>82.3502</td>\n",
       "      <td>(44.478939000000004, -73.211517)</td>\n",
       "    </tr>\n",
       "    <tr>\n",
       "      <th>4</th>\n",
       "      <td>-124.50</td>\n",
       "      <td>48.50</td>\n",
       "      <td>0</td>\n",
       "      <td>0.0</td>\n",
       "      <td>1973</td>\n",
       "      <td>1</td>\n",
       "      <td>(48.5, -124.5)</td>\n",
       "      <td>2224</td>\n",
       "      <td>111.3323</td>\n",
       "      <td>(47.87722, -95.012222)</td>\n",
       "    </tr>\n",
       "  </tbody>\n",
       "</table>\n",
       "</div>"
      ],
      "text/plain": [
       "     long    lat  stag_days  percent_stag_days  year  month        cell_point  \\\n",
       "0 -124.75  48.50          0                0.0  1973      1   (48.5, -124.75)   \n",
       "1 -124.75  48.25          0                0.0  1973      1  (48.25, -124.75)   \n",
       "2 -124.75  48.00          0                0.0  1973      1   (48.0, -124.75)   \n",
       "3 -124.75  47.75          0                0.0  1973      1  (47.75, -124.75)   \n",
       "4 -124.50  48.50          0                0.0  1973      1    (48.5, -124.5)   \n",
       "\n",
       "   nearest_monitorID  distance (km)                     monitor_coord  \n",
       "0               2144       107.2609            (43.098919, -75.22506)  \n",
       "1                421       111.2752           (44.989216, -74.712128)  \n",
       "2                451        98.3872  (44.478939000000004, -73.211517)  \n",
       "3                451        82.3502  (44.478939000000004, -73.211517)  \n",
       "4               2224       111.3323            (47.87722, -95.012222)  "
      ]
     },
     "execution_count": 23,
     "metadata": {},
     "output_type": "execute_result"
    }
   ],
   "source": [
    "grid_cells_to_monitor.head()"
   ]
  },
  {
   "cell_type": "code",
   "execution_count": 24,
   "metadata": {},
   "outputs": [],
   "source": [
    "grid_cells_to_monitor.to_csv('grid_cells_to_monitor.csv')"
   ]
  },
  {
   "cell_type": "markdown",
   "metadata": {},
   "source": [
    "### Calculate the Mean Pb Levels for Each Monitor by Month-Year"
   ]
  },
  {
   "cell_type": "code",
   "execution_count": 25,
   "metadata": {},
   "outputs": [],
   "source": [
    "month_year_pb = daily_lead_df.groupby(['monitorID', 'month','year'], as_index=False)['Pb_mean'].mean()"
   ]
  },
  {
   "cell_type": "code",
   "execution_count": 26,
   "metadata": {
    "scrolled": false
   },
   "outputs": [
    {
     "data": {
      "text/html": [
       "<div>\n",
       "<style scoped>\n",
       "    .dataframe tbody tr th:only-of-type {\n",
       "        vertical-align: middle;\n",
       "    }\n",
       "\n",
       "    .dataframe tbody tr th {\n",
       "        vertical-align: top;\n",
       "    }\n",
       "\n",
       "    .dataframe thead th {\n",
       "        text-align: right;\n",
       "    }\n",
       "</style>\n",
       "<table border=\"1\" class=\"dataframe\">\n",
       "  <thead>\n",
       "    <tr style=\"text-align: right;\">\n",
       "      <th></th>\n",
       "      <th>monitorID</th>\n",
       "      <th>month</th>\n",
       "      <th>year</th>\n",
       "      <th>Pb_mean</th>\n",
       "    </tr>\n",
       "  </thead>\n",
       "  <tbody>\n",
       "    <tr>\n",
       "      <th>0</th>\n",
       "      <td>1</td>\n",
       "      <td>1</td>\n",
       "      <td>2010</td>\n",
       "      <td>0.005000</td>\n",
       "    </tr>\n",
       "    <tr>\n",
       "      <th>1</th>\n",
       "      <td>1</td>\n",
       "      <td>2</td>\n",
       "      <td>2010</td>\n",
       "      <td>0.002444</td>\n",
       "    </tr>\n",
       "    <tr>\n",
       "      <th>2</th>\n",
       "      <td>1</td>\n",
       "      <td>3</td>\n",
       "      <td>2010</td>\n",
       "      <td>0.002375</td>\n",
       "    </tr>\n",
       "    <tr>\n",
       "      <th>3</th>\n",
       "      <td>1</td>\n",
       "      <td>6</td>\n",
       "      <td>2011</td>\n",
       "      <td>0.002857</td>\n",
       "    </tr>\n",
       "    <tr>\n",
       "      <th>4</th>\n",
       "      <td>1</td>\n",
       "      <td>7</td>\n",
       "      <td>2011</td>\n",
       "      <td>0.001100</td>\n",
       "    </tr>\n",
       "    <tr>\n",
       "      <th>...</th>\n",
       "      <td>...</td>\n",
       "      <td>...</td>\n",
       "      <td>...</td>\n",
       "      <td>...</td>\n",
       "    </tr>\n",
       "    <tr>\n",
       "      <th>176598</th>\n",
       "      <td>2459</td>\n",
       "      <td>12</td>\n",
       "      <td>2014</td>\n",
       "      <td>0.003767</td>\n",
       "    </tr>\n",
       "    <tr>\n",
       "      <th>176599</th>\n",
       "      <td>2459</td>\n",
       "      <td>12</td>\n",
       "      <td>2015</td>\n",
       "      <td>0.004540</td>\n",
       "    </tr>\n",
       "    <tr>\n",
       "      <th>176600</th>\n",
       "      <td>2459</td>\n",
       "      <td>12</td>\n",
       "      <td>2016</td>\n",
       "      <td>0.006020</td>\n",
       "    </tr>\n",
       "    <tr>\n",
       "      <th>176601</th>\n",
       "      <td>2459</td>\n",
       "      <td>12</td>\n",
       "      <td>2017</td>\n",
       "      <td>0.006180</td>\n",
       "    </tr>\n",
       "    <tr>\n",
       "      <th>176602</th>\n",
       "      <td>2459</td>\n",
       "      <td>12</td>\n",
       "      <td>2018</td>\n",
       "      <td>0.004420</td>\n",
       "    </tr>\n",
       "  </tbody>\n",
       "</table>\n",
       "<p>176603 rows × 4 columns</p>\n",
       "</div>"
      ],
      "text/plain": [
       "        monitorID  month  year   Pb_mean\n",
       "0               1      1  2010  0.005000\n",
       "1               1      2  2010  0.002444\n",
       "2               1      3  2010  0.002375\n",
       "3               1      6  2011  0.002857\n",
       "4               1      7  2011  0.001100\n",
       "...           ...    ...   ...       ...\n",
       "176598       2459     12  2014  0.003767\n",
       "176599       2459     12  2015  0.004540\n",
       "176600       2459     12  2016  0.006020\n",
       "176601       2459     12  2017  0.006180\n",
       "176602       2459     12  2018  0.004420\n",
       "\n",
       "[176603 rows x 4 columns]"
      ]
     },
     "execution_count": 26,
     "metadata": {},
     "output_type": "execute_result"
    }
   ],
   "source": [
    "month_year_pb"
   ]
  },
  {
   "cell_type": "markdown",
   "metadata": {},
   "source": [
    "### air stagnation dataframe with each 2.5 km^2 grid cell linked to its closest monitor, along with the distance to this closest monitor, and the monitor's average lead level for each month-year pair"
   ]
  },
  {
   "cell_type": "code",
   "execution_count": 27,
   "metadata": {},
   "outputs": [],
   "source": [
    "merged_pb = (month_year_pb.merge(grid_cells_to_monitor, left_on=['monitorID', 'month','year'], \n",
    "                                    right_on=['nearest_monitorID', 'month', 'year']))"
   ]
  },
  {
   "cell_type": "code",
   "execution_count": 28,
   "metadata": {},
   "outputs": [],
   "source": [
    "grid_cells_monthly_pb = (merged_pb.sort_values(['year','month'])\n",
    "                   #         .drop(columns='nearest_monitorID')\n",
    "                            .reset_index(drop=True))"
   ]
  },
  {
   "cell_type": "code",
   "execution_count": 29,
   "metadata": {},
   "outputs": [
    {
     "data": {
      "text/html": [
       "<div>\n",
       "<style scoped>\n",
       "    .dataframe tbody tr th:only-of-type {\n",
       "        vertical-align: middle;\n",
       "    }\n",
       "\n",
       "    .dataframe tbody tr th {\n",
       "        vertical-align: top;\n",
       "    }\n",
       "\n",
       "    .dataframe thead th {\n",
       "        text-align: right;\n",
       "    }\n",
       "</style>\n",
       "<table border=\"1\" class=\"dataframe\">\n",
       "  <thead>\n",
       "    <tr style=\"text-align: right;\">\n",
       "      <th></th>\n",
       "      <th>monitorID</th>\n",
       "      <th>month</th>\n",
       "      <th>year</th>\n",
       "      <th>Pb_mean</th>\n",
       "      <th>long</th>\n",
       "      <th>lat</th>\n",
       "      <th>stag_days</th>\n",
       "      <th>percent_stag_days</th>\n",
       "      <th>cell_point</th>\n",
       "      <th>nearest_monitorID</th>\n",
       "      <th>distance (km)</th>\n",
       "      <th>monitor_coord</th>\n",
       "    </tr>\n",
       "  </thead>\n",
       "  <tbody>\n",
       "    <tr>\n",
       "      <th>0</th>\n",
       "      <td>3</td>\n",
       "      <td>1</td>\n",
       "      <td>1980</td>\n",
       "      <td>0.34</td>\n",
       "      <td>-110.25</td>\n",
       "      <td>35.75</td>\n",
       "      <td>2</td>\n",
       "      <td>6.45</td>\n",
       "      <td>(35.75, -110.25)</td>\n",
       "      <td>3</td>\n",
       "      <td>37.2420</td>\n",
       "      <td>(32.833881, -109.71861000000001)</td>\n",
       "    </tr>\n",
       "    <tr>\n",
       "      <th>1</th>\n",
       "      <td>3</td>\n",
       "      <td>1</td>\n",
       "      <td>1980</td>\n",
       "      <td>0.34</td>\n",
       "      <td>-110.25</td>\n",
       "      <td>35.50</td>\n",
       "      <td>2</td>\n",
       "      <td>6.45</td>\n",
       "      <td>(35.5, -110.25)</td>\n",
       "      <td>3</td>\n",
       "      <td>42.3920</td>\n",
       "      <td>(32.833881, -109.71861000000001)</td>\n",
       "    </tr>\n",
       "    <tr>\n",
       "      <th>2</th>\n",
       "      <td>3</td>\n",
       "      <td>1</td>\n",
       "      <td>1980</td>\n",
       "      <td>0.34</td>\n",
       "      <td>-110.25</td>\n",
       "      <td>35.25</td>\n",
       "      <td>2</td>\n",
       "      <td>6.45</td>\n",
       "      <td>(35.25, -110.25)</td>\n",
       "      <td>3</td>\n",
       "      <td>57.4670</td>\n",
       "      <td>(32.833881, -109.71861000000001)</td>\n",
       "    </tr>\n",
       "    <tr>\n",
       "      <th>3</th>\n",
       "      <td>3</td>\n",
       "      <td>1</td>\n",
       "      <td>1980</td>\n",
       "      <td>0.34</td>\n",
       "      <td>-103.50</td>\n",
       "      <td>29.00</td>\n",
       "      <td>2</td>\n",
       "      <td>6.45</td>\n",
       "      <td>(29.0, -103.5)</td>\n",
       "      <td>3</td>\n",
       "      <td>53.1873</td>\n",
       "      <td>(32.833881, -109.71861000000001)</td>\n",
       "    </tr>\n",
       "    <tr>\n",
       "      <th>4</th>\n",
       "      <td>3</td>\n",
       "      <td>1</td>\n",
       "      <td>1980</td>\n",
       "      <td>0.34</td>\n",
       "      <td>-100.75</td>\n",
       "      <td>31.00</td>\n",
       "      <td>2</td>\n",
       "      <td>6.45</td>\n",
       "      <td>(31.0, -100.75)</td>\n",
       "      <td>3</td>\n",
       "      <td>45.5206</td>\n",
       "      <td>(32.833881, -109.71861000000001)</td>\n",
       "    </tr>\n",
       "  </tbody>\n",
       "</table>\n",
       "</div>"
      ],
      "text/plain": [
       "   monitorID  month  year  Pb_mean    long    lat  stag_days  \\\n",
       "0          3      1  1980     0.34 -110.25  35.75          2   \n",
       "1          3      1  1980     0.34 -110.25  35.50          2   \n",
       "2          3      1  1980     0.34 -110.25  35.25          2   \n",
       "3          3      1  1980     0.34 -103.50  29.00          2   \n",
       "4          3      1  1980     0.34 -100.75  31.00          2   \n",
       "\n",
       "   percent_stag_days        cell_point  nearest_monitorID  distance (km)  \\\n",
       "0               6.45  (35.75, -110.25)                  3        37.2420   \n",
       "1               6.45   (35.5, -110.25)                  3        42.3920   \n",
       "2               6.45  (35.25, -110.25)                  3        57.4670   \n",
       "3               6.45    (29.0, -103.5)                  3        53.1873   \n",
       "4               6.45   (31.0, -100.75)                  3        45.5206   \n",
       "\n",
       "                      monitor_coord  \n",
       "0  (32.833881, -109.71861000000001)  \n",
       "1  (32.833881, -109.71861000000001)  \n",
       "2  (32.833881, -109.71861000000001)  \n",
       "3  (32.833881, -109.71861000000001)  \n",
       "4  (32.833881, -109.71861000000001)  "
      ]
     },
     "execution_count": 29,
     "metadata": {},
     "output_type": "execute_result"
    }
   ],
   "source": [
    "grid_cells_monthly_pb.head()"
   ]
  },
  {
   "cell_type": "code",
   "execution_count": 30,
   "metadata": {},
   "outputs": [
    {
     "data": {
      "text/plain": [
       "76.97278838202618"
      ]
     },
     "execution_count": 30,
     "metadata": {},
     "output_type": "execute_result"
    }
   ],
   "source": [
    "grid_cells_monthly_pb['distance (km)'].mean()"
   ]
  },
  {
   "cell_type": "code",
   "execution_count": 31,
   "metadata": {},
   "outputs": [
    {
     "data": {
      "text/plain": [
       "0.2997"
      ]
     },
     "execution_count": 31,
     "metadata": {},
     "output_type": "execute_result"
    }
   ],
   "source": [
    "grid_cells_monthly_pb['distance (km)'].min()"
   ]
  },
  {
   "cell_type": "code",
   "execution_count": 32,
   "metadata": {},
   "outputs": [
    {
     "data": {
      "text/plain": [
       "-0.00220000002"
      ]
     },
     "execution_count": 32,
     "metadata": {},
     "output_type": "execute_result"
    }
   ],
   "source": [
    "grid_cells_monthly_pb['Pb_mean'].min()"
   ]
  },
  {
   "cell_type": "code",
   "execution_count": 33,
   "metadata": {},
   "outputs": [],
   "source": [
    "grid_cells_monthly_pb.to_csv('grid_cells_monthly_pb.csv')"
   ]
  }
 ],
 "metadata": {
  "kernelspec": {
   "display_name": "Python 3",
   "language": "python",
   "name": "python3"
  },
  "language_info": {
   "codemirror_mode": {
    "name": "ipython",
    "version": 3
   },
   "file_extension": ".py",
   "mimetype": "text/x-python",
   "name": "python",
   "nbconvert_exporter": "python",
   "pygments_lexer": "ipython3",
   "version": "3.8.5"
  }
 },
 "nbformat": 4,
 "nbformat_minor": 4
}
